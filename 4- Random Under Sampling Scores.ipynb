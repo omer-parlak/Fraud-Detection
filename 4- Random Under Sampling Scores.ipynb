{
 "cells": [
  {
   "cell_type": "code",
   "execution_count": 1,
   "id": "da1f402c",
   "metadata": {
    "execution": {
     "iopub.execute_input": "2022-03-11T17:20:32.423767Z",
     "iopub.status.busy": "2022-03-11T17:20:32.421865Z",
     "iopub.status.idle": "2022-03-11T17:20:35.137657Z",
     "shell.execute_reply": "2022-03-11T17:20:35.136931Z",
     "shell.execute_reply.started": "2022-03-05T23:40:15.541679Z"
    },
    "papermill": {
     "duration": 2.769014,
     "end_time": "2022-03-11T17:20:35.137835",
     "exception": false,
     "start_time": "2022-03-11T17:20:32.368821",
     "status": "completed"
    },
    "tags": []
   },
   "outputs": [
    {
     "data": {
      "text/html": [
       "<style type='text/css'>\n",
       ".datatable table.frame { margin-bottom: 0; }\n",
       ".datatable table.frame thead { border-bottom: none; }\n",
       ".datatable table.frame tr.coltypes td {  color: #FFFFFF;  line-height: 6px;  padding: 0 0.5em;}\n",
       ".datatable .bool    { background: #DDDD99; }\n",
       ".datatable .object  { background: #565656; }\n",
       ".datatable .int     { background: #5D9E5D; }\n",
       ".datatable .float   { background: #4040CC; }\n",
       ".datatable .str     { background: #CC4040; }\n",
       ".datatable .time    { background: #40CC40; }\n",
       ".datatable .row_index {  background: var(--jp-border-color3);  border-right: 1px solid var(--jp-border-color0);  color: var(--jp-ui-font-color3);  font-size: 9px;}\n",
       ".datatable .frame tbody td { text-align: left; }\n",
       ".datatable .frame tr.coltypes .row_index {  background: var(--jp-border-color0);}\n",
       ".datatable th:nth-child(2) { padding-left: 12px; }\n",
       ".datatable .hellipsis {  color: var(--jp-cell-editor-border-color);}\n",
       ".datatable .vellipsis {  background: var(--jp-layout-color0);  color: var(--jp-cell-editor-border-color);}\n",
       ".datatable .na {  color: var(--jp-cell-editor-border-color);  font-size: 80%;}\n",
       ".datatable .sp {  opacity: 0.25;}\n",
       ".datatable .footer { font-size: 9px; }\n",
       ".datatable .frame_dimensions {  background: var(--jp-border-color3);  border-top: 1px solid var(--jp-border-color0);  color: var(--jp-ui-font-color3);  display: inline-block;  opacity: 0.6;  padding: 1px 10px 1px 5px;}\n",
       "</style>\n"
      ],
      "text/plain": [
       "<IPython.core.display.HTML object>"
      ]
     },
     "metadata": {},
     "output_type": "display_data"
    }
   ],
   "source": [
    "import numpy as np\n",
    "import pandas as pd\n",
    "import seaborn as sns\n",
    "import matplotlib.pyplot as plt\n",
    "import warnings\n",
    "import gc\n",
    "import datetime\n",
    "from sklearn.model_selection import train_test_split,cross_val_score,GridSearchCV,cross_validate\n",
    "from sklearn.preprocessing import MinMaxScaler,LabelEncoder, StandardScaler, RobustScaler\n",
    "from sklearn.exceptions import ConvergenceWarning\n",
    "from sklearn.metrics import accuracy_score,recall_score,precision_score,f1_score,roc_auc_score, classification_report\n",
    "from xgboost import XGBClassifier\n",
    "from lightgbm import LGBMClassifier\n",
    "from imblearn.under_sampling import RandomUnderSampler"
   ]
  },
  {
   "cell_type": "code",
   "execution_count": 2,
   "id": "7cc7bcbd",
   "metadata": {
    "execution": {
     "iopub.execute_input": "2022-03-11T17:20:35.239914Z",
     "iopub.status.busy": "2022-03-11T17:20:35.238950Z",
     "iopub.status.idle": "2022-03-11T17:20:35.242900Z",
     "shell.execute_reply": "2022-03-11T17:20:35.243535Z",
     "shell.execute_reply.started": "2022-03-05T23:40:18.63522Z"
    },
    "papermill": {
     "duration": 0.055996,
     "end_time": "2022-03-11T17:20:35.243716",
     "exception": false,
     "start_time": "2022-03-11T17:20:35.187720",
     "status": "completed"
    },
    "tags": []
   },
   "outputs": [],
   "source": [
    "warnings.simplefilter(\"ignore\")\n",
    "pd.set_option('display.max_columns', None)\n",
    "pd.set_option('display.max_rows', None)"
   ]
  },
  {
   "cell_type": "code",
   "execution_count": 3,
   "id": "3e3d1eaa",
   "metadata": {
    "execution": {
     "iopub.execute_input": "2022-03-11T17:20:35.345886Z",
     "iopub.status.busy": "2022-03-11T17:20:35.344909Z",
     "iopub.status.idle": "2022-03-11T17:21:39.392295Z",
     "shell.execute_reply": "2022-03-11T17:21:39.391241Z",
     "shell.execute_reply.started": "2022-03-05T23:40:18.643056Z"
    },
    "papermill": {
     "duration": 64.099033,
     "end_time": "2022-03-11T17:21:39.392719",
     "exception": false,
     "start_time": "2022-03-11T17:20:35.293686",
     "status": "completed"
    },
    "tags": []
   },
   "outputs": [],
   "source": [
    "train_transaction=pd.read_csv('../input/ieee-fraud-detection/train_transaction.csv')\n",
    "train_identity=pd.read_csv('../input/ieee-fraud-detection/train_identity.csv')\n",
    "test_transaction=pd.read_csv('../input/ieee-fraud-detection/test_transaction.csv')\n",
    "test_identity=pd.read_csv('../input/ieee-fraud-detection/test_identity.csv')\n",
    "sample_submission=pd.read_csv('../input/ieee-fraud-detection/sample_submission.csv')"
   ]
  },
  {
   "cell_type": "code",
   "execution_count": 4,
   "id": "9f952834",
   "metadata": {
    "execution": {
     "iopub.execute_input": "2022-03-11T17:21:39.503779Z",
     "iopub.status.busy": "2022-03-11T17:21:39.503046Z",
     "iopub.status.idle": "2022-03-11T17:21:51.819660Z",
     "shell.execute_reply": "2022-03-11T17:21:51.819037Z",
     "shell.execute_reply.started": "2022-03-05T23:41:30.67609Z"
    },
    "papermill": {
     "duration": 12.375942,
     "end_time": "2022-03-11T17:21:51.819814",
     "exception": false,
     "start_time": "2022-03-11T17:21:39.443872",
     "status": "completed"
    },
    "tags": []
   },
   "outputs": [],
   "source": [
    "train_df = train_transaction.merge(train_identity, how=\"left\", on=\"TransactionID\")\n",
    "\n",
    "test_df = test_transaction.merge(test_identity, how=\"left\", on=\"TransactionID\")"
   ]
  },
  {
   "cell_type": "code",
   "execution_count": 5,
   "id": "56a8a185",
   "metadata": {
    "execution": {
     "iopub.execute_input": "2022-03-11T17:21:51.919352Z",
     "iopub.status.busy": "2022-03-11T17:21:51.918652Z",
     "iopub.status.idle": "2022-03-11T17:21:55.768141Z",
     "shell.execute_reply": "2022-03-11T17:21:55.767286Z",
     "shell.execute_reply.started": "2022-03-05T23:41:46.576081Z"
    },
    "papermill": {
     "duration": 3.899927,
     "end_time": "2022-03-11T17:21:55.768289",
     "exception": false,
     "start_time": "2022-03-11T17:21:51.868362",
     "status": "completed"
    },
    "tags": []
   },
   "outputs": [],
   "source": [
    "test_df= test_df.rename(columns=lambda x:\"_\".join(x.split(\"-\")))"
   ]
  },
  {
   "cell_type": "markdown",
   "id": "c91d8aae",
   "metadata": {
    "papermill": {
     "duration": 0.047846,
     "end_time": "2022-03-11T17:21:55.864404",
     "exception": false,
     "start_time": "2022-03-11T17:21:55.816558",
     "status": "completed"
    },
    "tags": []
   },
   "source": [
    "#### reduce memory"
   ]
  },
  {
   "cell_type": "code",
   "execution_count": 6,
   "id": "a1b93c1a",
   "metadata": {
    "execution": {
     "iopub.execute_input": "2022-03-11T17:21:55.970069Z",
     "iopub.status.busy": "2022-03-11T17:21:55.968981Z",
     "iopub.status.idle": "2022-03-11T17:21:55.978145Z",
     "shell.execute_reply": "2022-03-11T17:21:55.978650Z",
     "shell.execute_reply.started": "2022-03-05T23:41:50.985046Z"
    },
    "papermill": {
     "duration": 0.066119,
     "end_time": "2022-03-11T17:21:55.978845",
     "exception": false,
     "start_time": "2022-03-11T17:21:55.912726",
     "status": "completed"
    },
    "tags": []
   },
   "outputs": [],
   "source": [
    "def reduce_mem_usage(df, verbose=True):\n",
    "    numerics = ['int16', 'int32', 'int64', 'float16', 'float32', 'float64']\n",
    "    start_mem = df.memory_usage().sum() / 1024**2    \n",
    "    for col in df.columns:\n",
    "        col_type = df[col].dtypes\n",
    "        if col_type in numerics:\n",
    "            c_min = df[col].min()\n",
    "            c_max = df[col].max()\n",
    "            if str(col_type)[:3] == 'int':\n",
    "                if c_min > np.iinfo(np.int8).min and c_max < np.iinfo(np.int8).max:\n",
    "                    df[col] = df[col].astype(np.int8)\n",
    "                elif c_min > np.iinfo(np.int16).min and c_max < np.iinfo(np.int16).max:\n",
    "                    df[col] = df[col].astype(np.int16)\n",
    "                elif c_min > np.iinfo(np.int32).min and c_max < np.iinfo(np.int32).max:\n",
    "                    df[col] = df[col].astype(np.int32)\n",
    "                elif c_min > np.iinfo(np.int64).min and c_max < np.iinfo(np.int64).max:\n",
    "                    df[col] = df[col].astype(np.int64)  \n",
    "            else:\n",
    "                if c_min > np.finfo(np.float16).min and c_max < np.finfo(np.float16).max:\n",
    "                    df[col] = df[col].astype(np.float16)\n",
    "                elif c_min > np.finfo(np.float32).min and c_max < np.finfo(np.float32).max:\n",
    "                    df[col] = df[col].astype(np.float32)\n",
    "                else:\n",
    "                    df[col] = df[col].astype(np.float64)    \n",
    "    end_mem = df.memory_usage().sum() / 1024**2\n",
    "    if verbose: print('Mem. usage decreased to {:5.2f} Mb ({:.1f}% reduction)'.format(end_mem, 100 * (start_mem - end_mem) / start_mem))\n",
    "    return df"
   ]
  },
  {
   "cell_type": "code",
   "execution_count": 7,
   "id": "c050e7f8",
   "metadata": {
    "execution": {
     "iopub.execute_input": "2022-03-11T17:21:56.085233Z",
     "iopub.status.busy": "2022-03-11T17:21:56.079635Z",
     "iopub.status.idle": "2022-03-11T17:25:02.367429Z",
     "shell.execute_reply": "2022-03-11T17:25:02.367957Z",
     "shell.execute_reply.started": "2022-03-05T23:41:51.001665Z"
    },
    "papermill": {
     "duration": 186.341244,
     "end_time": "2022-03-11T17:25:02.368190",
     "exception": false,
     "start_time": "2022-03-11T17:21:56.026946",
     "status": "completed"
    },
    "tags": []
   },
   "outputs": [
    {
     "name": "stdout",
     "output_type": "stream",
     "text": [
      "Mem. usage decreased to 650.48 Mb (66.8% reduction)\n",
      "Mem. usage decreased to 565.37 Mb (66.3% reduction)\n"
     ]
    }
   ],
   "source": [
    "train_df = reduce_mem_usage(train_df)\n",
    "test_df  = reduce_mem_usage(test_df)"
   ]
  },
  {
   "cell_type": "markdown",
   "id": "8bcc4406",
   "metadata": {
    "papermill": {
     "duration": 0.049154,
     "end_time": "2022-03-11T17:25:02.465526",
     "exception": false,
     "start_time": "2022-03-11T17:25:02.416372",
     "status": "completed"
    },
    "tags": []
   },
   "source": [
    "# Fill NA"
   ]
  },
  {
   "cell_type": "code",
   "execution_count": 8,
   "id": "d5b9adb7",
   "metadata": {
    "execution": {
     "iopub.execute_input": "2022-03-11T17:25:02.572263Z",
     "iopub.status.busy": "2022-03-11T17:25:02.570988Z",
     "iopub.status.idle": "2022-03-11T17:25:10.431368Z",
     "shell.execute_reply": "2022-03-11T17:25:10.430759Z",
     "shell.execute_reply.started": "2022-03-05T23:46:20.55982Z"
    },
    "papermill": {
     "duration": 7.917762,
     "end_time": "2022-03-11T17:25:10.431552",
     "exception": false,
     "start_time": "2022-03-11T17:25:02.513790",
     "status": "completed"
    },
    "tags": []
   },
   "outputs": [],
   "source": [
    "train_df = train_df.fillna(-999)\n",
    "test_df = test_df.fillna(-999)"
   ]
  },
  {
   "cell_type": "markdown",
   "id": "7ff67ee1",
   "metadata": {
    "papermill": {
     "duration": 0.047907,
     "end_time": "2022-03-11T17:25:10.530455",
     "exception": false,
     "start_time": "2022-03-11T17:25:10.482548",
     "status": "completed"
    },
    "tags": []
   },
   "source": [
    "# Label Encoding"
   ]
  },
  {
   "cell_type": "code",
   "execution_count": 9,
   "id": "59da0a56",
   "metadata": {
    "execution": {
     "iopub.execute_input": "2022-03-11T17:25:10.633654Z",
     "iopub.status.busy": "2022-03-11T17:25:10.632954Z",
     "iopub.status.idle": "2022-03-11T17:25:49.412214Z",
     "shell.execute_reply": "2022-03-11T17:25:49.412939Z",
     "shell.execute_reply.started": "2022-03-05T23:46:28.929683Z"
    },
    "papermill": {
     "duration": 38.834563,
     "end_time": "2022-03-11T17:25:49.413357",
     "exception": false,
     "start_time": "2022-03-11T17:25:10.578794",
     "status": "completed"
    },
    "tags": []
   },
   "outputs": [],
   "source": [
    "# Label Encoding\n",
    "for f in train_df.columns:\n",
    "    if train_df[f].dtype=='object': \n",
    "        lbl = LabelEncoder()\n",
    "        lbl.fit(list(train_df[f].values))\n",
    "        train_df[f] = lbl.transform(list(train_df[f].values)) "
   ]
  },
  {
   "cell_type": "code",
   "execution_count": 10,
   "id": "5e1a59a5",
   "metadata": {
    "execution": {
     "iopub.execute_input": "2022-03-11T17:25:49.595919Z",
     "iopub.status.busy": "2022-03-11T17:25:49.595232Z",
     "iopub.status.idle": "2022-03-11T17:26:21.676868Z",
     "shell.execute_reply": "2022-03-11T17:26:21.676245Z",
     "shell.execute_reply.started": "2022-03-05T23:47:07.60686Z"
    },
    "papermill": {
     "duration": 32.212594,
     "end_time": "2022-03-11T17:26:21.677039",
     "exception": false,
     "start_time": "2022-03-11T17:25:49.464445",
     "status": "completed"
    },
    "tags": []
   },
   "outputs": [],
   "source": [
    "for f in test_df.columns:\n",
    "    if test_df[f].dtype=='object': \n",
    "        lbl = LabelEncoder()\n",
    "        lbl.fit(list(test_df[f].values))\n",
    "        test_df[f] = lbl.transform(list(test_df[f].values))"
   ]
  },
  {
   "cell_type": "markdown",
   "id": "b25aa2b1",
   "metadata": {
    "papermill": {
     "duration": 0.048039,
     "end_time": "2022-03-11T17:26:21.773523",
     "exception": false,
     "start_time": "2022-03-11T17:26:21.725484",
     "status": "completed"
    },
    "tags": []
   },
   "source": [
    "# Model"
   ]
  },
  {
   "cell_type": "code",
   "execution_count": 11,
   "id": "ac46a27d",
   "metadata": {
    "execution": {
     "iopub.execute_input": "2022-03-11T17:26:21.876419Z",
     "iopub.status.busy": "2022-03-11T17:26:21.875693Z",
     "iopub.status.idle": "2022-03-11T17:26:23.616877Z",
     "shell.execute_reply": "2022-03-11T17:26:23.617603Z",
     "shell.execute_reply.started": "2022-03-05T23:47:41.539516Z"
    },
    "papermill": {
     "duration": 1.79571,
     "end_time": "2022-03-11T17:26:23.617820",
     "exception": false,
     "start_time": "2022-03-11T17:26:21.822110",
     "status": "completed"
    },
    "tags": []
   },
   "outputs": [],
   "source": [
    "y = train_df[\"isFraud\"]\n",
    "X = train_df.drop([\"isFraud\", \"TransactionID\"], axis=1)\n",
    "test_df = test_df.drop([\"TransactionID\"], axis=1)"
   ]
  },
  {
   "cell_type": "code",
   "execution_count": 12,
   "id": "6c5eb57f",
   "metadata": {
    "execution": {
     "iopub.execute_input": "2022-03-11T17:26:23.719590Z",
     "iopub.status.busy": "2022-03-11T17:26:23.718902Z",
     "iopub.status.idle": "2022-03-11T17:26:27.136378Z",
     "shell.execute_reply": "2022-03-11T17:26:27.136870Z",
     "shell.execute_reply.started": "2022-03-05T23:47:42.759447Z"
    },
    "papermill": {
     "duration": 3.469576,
     "end_time": "2022-03-11T17:26:27.137061",
     "exception": false,
     "start_time": "2022-03-11T17:26:23.667485",
     "status": "completed"
    },
    "tags": []
   },
   "outputs": [],
   "source": [
    "X_train, X_test, y_train, y_test = train_test_split(X, y, test_size=0.3, random_state=0, stratify=y)"
   ]
  },
  {
   "cell_type": "markdown",
   "id": "f9f78471",
   "metadata": {
    "papermill": {
     "duration": 0.04903,
     "end_time": "2022-03-11T17:26:27.235041",
     "exception": false,
     "start_time": "2022-03-11T17:26:27.186011",
     "status": "completed"
    },
    "tags": []
   },
   "source": [
    "# lightgbm"
   ]
  },
  {
   "cell_type": "code",
   "execution_count": 13,
   "id": "b82be342",
   "metadata": {
    "execution": {
     "iopub.execute_input": "2022-03-11T17:26:27.336202Z",
     "iopub.status.busy": "2022-03-11T17:26:27.335529Z",
     "iopub.status.idle": "2022-03-11T17:26:48.950201Z",
     "shell.execute_reply": "2022-03-11T17:26:48.951292Z",
     "shell.execute_reply.started": "2022-03-05T23:47:47.022846Z"
    },
    "papermill": {
     "duration": 21.667355,
     "end_time": "2022-03-11T17:26:48.951533",
     "exception": false,
     "start_time": "2022-03-11T17:26:27.284178",
     "status": "completed"
    },
    "tags": []
   },
   "outputs": [
    {
     "data": {
      "text/plain": [
       "LGBMClassifier()"
      ]
     },
     "execution_count": 13,
     "metadata": {},
     "output_type": "execute_result"
    }
   ],
   "source": [
    "reg1 = LGBMClassifier()\n",
    "reg1.fit(X_train,y_train) "
   ]
  },
  {
   "cell_type": "code",
   "execution_count": 14,
   "id": "ae05c01b",
   "metadata": {
    "execution": {
     "iopub.execute_input": "2022-03-11T17:26:49.056558Z",
     "iopub.status.busy": "2022-03-11T17:26:49.055845Z",
     "iopub.status.idle": "2022-03-11T17:26:50.604619Z",
     "shell.execute_reply": "2022-03-11T17:26:50.603661Z",
     "shell.execute_reply.started": "2022-03-05T23:48:12.500805Z"
    },
    "papermill": {
     "duration": 1.603441,
     "end_time": "2022-03-11T17:26:50.604817",
     "exception": false,
     "start_time": "2022-03-11T17:26:49.001376",
     "status": "completed"
    },
    "tags": []
   },
   "outputs": [
    {
     "name": "stdout",
     "output_type": "stream",
     "text": [
      "              precision    recall  f1-score   support\n",
      "\n",
      "           0       0.98      1.00      0.99    170963\n",
      "           1       0.89      0.44      0.59      6199\n",
      "\n",
      "    accuracy                           0.98    177162\n",
      "   macro avg       0.94      0.72      0.79    177162\n",
      "weighted avg       0.98      0.98      0.97    177162\n",
      "\n",
      "Auc: 0.94\n"
     ]
    }
   ],
   "source": [
    "pred = reg1.predict(X_test)\n",
    "print(classification_report(y_test, pred))\n",
    "print(f\"Auc: {round(roc_auc_score(pred, y_test), 2)}\")"
   ]
  },
  {
   "cell_type": "code",
   "execution_count": 15,
   "id": "ca6b0c27",
   "metadata": {
    "execution": {
     "iopub.execute_input": "2022-03-11T17:26:50.712121Z",
     "iopub.status.busy": "2022-03-11T17:26:50.711461Z",
     "iopub.status.idle": "2022-03-11T17:26:51.698602Z",
     "shell.execute_reply": "2022-03-11T17:26:51.698024Z",
     "shell.execute_reply.started": "2022-03-05T23:48:14.460361Z"
    },
    "papermill": {
     "duration": 1.043861,
     "end_time": "2022-03-11T17:26:51.698746",
     "exception": false,
     "start_time": "2022-03-11T17:26:50.654885",
     "status": "completed"
    },
    "tags": []
   },
   "outputs": [
    {
     "data": {
      "image/png": "[encoded data removed]",
      "text/plain": [
       "<Figure size 720x720 with 1 Axes>"
      ]
     },
     "metadata": {
      "needs_background": "light"
     },
     "output_type": "display_data"
    }
   ],
   "source": [
    "def plot_importance(model, features, num=len(X), save=False):\n",
    "\n",
    "    feature_imp = pd.DataFrame({'Value': model.feature_importances_, 'Feature': features.columns})\n",
    "    plt.figure(figsize=(10, 10))\n",
    "    sns.set(font_scale=1)\n",
    "    sns.barplot(x=\"Value\", y=\"Feature\", data=feature_imp.sort_values(by=\"Value\",\n",
    "                                                                     ascending=False)[0:50])\n",
    "    plt.title('Features')\n",
    "    plt.tight_layout()\n",
    "    plt.show()\n",
    "    if save:\n",
    "        plt.savefig('importances.png')\n",
    "\n",
    "        \n",
    "        \n",
    "plot_importance(reg1, X_train)"
   ]
  },
  {
   "cell_type": "code",
   "execution_count": 16,
   "id": "51377ea6",
   "metadata": {
    "execution": {
     "iopub.execute_input": "2022-03-11T17:26:51.806162Z",
     "iopub.status.busy": "2022-03-11T17:26:51.805461Z",
     "iopub.status.idle": "2022-03-11T17:26:55.735266Z",
     "shell.execute_reply": "2022-03-11T17:26:55.734533Z",
     "shell.execute_reply.started": "2022-03-05T23:48:15.477568Z"
    },
    "papermill": {
     "duration": 3.98561,
     "end_time": "2022-03-11T17:26:55.735467",
     "exception": false,
     "start_time": "2022-03-11T17:26:51.749857",
     "status": "completed"
    },
    "tags": []
   },
   "outputs": [],
   "source": [
    "predictions = reg1.predict_proba(test_df)[:,1]"
   ]
  },
  {
   "cell_type": "code",
   "execution_count": 17,
   "id": "b98bfdcb",
   "metadata": {
    "execution": {
     "iopub.execute_input": "2022-03-11T17:26:55.844690Z",
     "iopub.status.busy": "2022-03-11T17:26:55.843929Z",
     "iopub.status.idle": "2022-03-11T17:26:55.862007Z",
     "shell.execute_reply": "2022-03-11T17:26:55.862594Z",
     "shell.execute_reply.started": "2022-03-05T23:48:20.707335Z"
    },
    "papermill": {
     "duration": 0.075247,
     "end_time": "2022-03-11T17:26:55.862782",
     "exception": false,
     "start_time": "2022-03-11T17:26:55.787535",
     "status": "completed"
    },
    "tags": []
   },
   "outputs": [
    {
     "data": {
      "text/html": [
       "<div>\n",
       "<style scoped>\n",
       "    .dataframe tbody tr th:only-of-type {\n",
       "        vertical-align: middle;\n",
       "    }\n",
       "\n",
       "    .dataframe tbody tr th {\n",
       "        vertical-align: top;\n",
       "    }\n",
       "\n",
       "    .dataframe thead th {\n",
       "        text-align: right;\n",
       "    }\n",
       "</style>\n",
       "<table border=\"1\" class=\"dataframe\">\n",
       "  <thead>\n",
       "    <tr style=\"text-align: right;\">\n",
       "      <th></th>\n",
       "      <th>TransactionID</th>\n",
       "      <th>isFraud</th>\n",
       "    </tr>\n",
       "  </thead>\n",
       "  <tbody>\n",
       "    <tr>\n",
       "      <th>0</th>\n",
       "      <td>3663549</td>\n",
       "      <td>0.003975</td>\n",
       "    </tr>\n",
       "    <tr>\n",
       "      <th>1</th>\n",
       "      <td>3663550</td>\n",
       "      <td>0.004518</td>\n",
       "    </tr>\n",
       "    <tr>\n",
       "      <th>2</th>\n",
       "      <td>3663551</td>\n",
       "      <td>0.011299</td>\n",
       "    </tr>\n",
       "    <tr>\n",
       "      <th>3</th>\n",
       "      <td>3663552</td>\n",
       "      <td>0.002218</td>\n",
       "    </tr>\n",
       "    <tr>\n",
       "      <th>4</th>\n",
       "      <td>3663553</td>\n",
       "      <td>0.003725</td>\n",
       "    </tr>\n",
       "  </tbody>\n",
       "</table>\n",
       "</div>"
      ],
      "text/plain": [
       "   TransactionID   isFraud\n",
       "0        3663549  0.003975\n",
       "1        3663550  0.004518\n",
       "2        3663551  0.011299\n",
       "3        3663552  0.002218\n",
       "4        3663553  0.003725"
      ]
     },
     "execution_count": 17,
     "metadata": {},
     "output_type": "execute_result"
    }
   ],
   "source": [
    "submission = pd.DataFrame({'TransactionID':test_transaction['TransactionID'],'isFraud':predictions})\n",
    "submission[\"TransactionID\"]=submission[\"TransactionID\"].astype(int)\n",
    "submission.head()"
   ]
  },
  {
   "cell_type": "code",
   "execution_count": 18,
   "id": "437c49aa",
   "metadata": {
    "execution": {
     "iopub.execute_input": "2022-03-11T17:26:55.973307Z",
     "iopub.status.busy": "2022-03-11T17:26:55.972250Z",
     "iopub.status.idle": "2022-03-11T17:26:57.790851Z",
     "shell.execute_reply": "2022-03-11T17:26:57.789933Z",
     "shell.execute_reply.started": "2022-03-05T23:48:20.743299Z"
    },
    "papermill": {
     "duration": 1.875967,
     "end_time": "2022-03-11T17:26:57.791047",
     "exception": false,
     "start_time": "2022-03-11T17:26:55.915080",
     "status": "completed"
    },
    "tags": []
   },
   "outputs": [
    {
     "name": "stdout",
     "output_type": "stream",
     "text": [
      "Saved file: CIS Fraud Detection LGBM.csv\n"
     ]
    }
   ],
   "source": [
    "filename = 'CIS Fraud Detection LGBM.csv'\n",
    "\n",
    "submission.to_csv(filename,index=False)\n",
    "\n",
    "print('Saved file: ' + filename)"
   ]
  },
  {
   "cell_type": "code",
   "execution_count": 19,
   "id": "700c437f",
   "metadata": {
    "execution": {
     "iopub.execute_input": "2022-03-11T17:26:57.899835Z",
     "iopub.status.busy": "2022-03-11T17:26:57.899110Z",
     "iopub.status.idle": "2022-03-11T17:26:57.901784Z",
     "shell.execute_reply": "2022-03-11T17:26:57.901174Z",
     "shell.execute_reply.started": "2022-03-05T23:48:22.607179Z"
    },
    "papermill": {
     "duration": 0.058202,
     "end_time": "2022-03-11T17:26:57.901933",
     "exception": false,
     "start_time": "2022-03-11T17:26:57.843731",
     "status": "completed"
    },
    "tags": []
   },
   "outputs": [],
   "source": [
    "# Score: 0.893605\n",
    "# Public score: 0.918328"
   ]
  },
  {
   "cell_type": "markdown",
   "id": "fa9a23b2",
   "metadata": {
    "papermill": {
     "duration": 0.051853,
     "end_time": "2022-03-11T17:26:58.005813",
     "exception": false,
     "start_time": "2022-03-11T17:26:57.953960",
     "status": "completed"
    },
    "tags": []
   },
   "source": [
    "# xgb"
   ]
  },
  {
   "cell_type": "code",
   "execution_count": 20,
   "id": "fd442cf0",
   "metadata": {
    "execution": {
     "iopub.execute_input": "2022-03-11T17:26:58.133460Z",
     "iopub.status.busy": "2022-03-11T17:26:58.132512Z",
     "iopub.status.idle": "2022-03-11T17:33:11.830615Z",
     "shell.execute_reply": "2022-03-11T17:33:11.831147Z",
     "shell.execute_reply.started": "2022-03-05T23:48:22.619325Z"
    },
    "papermill": {
     "duration": 373.76942,
     "end_time": "2022-03-11T17:33:11.831363",
     "exception": false,
     "start_time": "2022-03-11T17:26:58.061943",
     "status": "completed"
    },
    "tags": []
   },
   "outputs": [
    {
     "name": "stdout",
     "output_type": "stream",
     "text": [
      "[17:27:10] WARNING: ../src/learner.cc:1115: Starting in XGBoost 1.3.0, the default evaluation metric used with the objective 'binary:logistic' was changed from 'error' to 'logloss'. Explicitly set eval_metric if you'd like to restore the old behavior.\n"
     ]
    },
    {
     "data": {
      "text/plain": [
       "XGBClassifier(base_score=0.5, booster='gbtree', colsample_bylevel=1,\n",
       "              colsample_bynode=1, colsample_bytree=1, enable_categorical=False,\n",
       "              gamma=0, gpu_id=-1, importance_type=None,\n",
       "              interaction_constraints='', learning_rate=0.300000012,\n",
       "              max_delta_step=0, max_depth=6, min_child_weight=1, missing=nan,\n",
       "              monotone_constraints='()', n_estimators=100, n_jobs=4,\n",
       "              num_parallel_tree=1, predictor='auto', random_state=0,\n",
       "              reg_alpha=0, reg_lambda=1, scale_pos_weight=1, subsample=1,\n",
       "              tree_method='exact', validate_parameters=1, verbosity=None)"
      ]
     },
     "execution_count": 20,
     "metadata": {},
     "output_type": "execute_result"
    }
   ],
   "source": [
    "reg2 = XGBClassifier() \n",
    "reg2.fit(X_train,y_train) "
   ]
  },
  {
   "cell_type": "code",
   "execution_count": 21,
   "id": "d1a0478a",
   "metadata": {
    "execution": {
     "iopub.execute_input": "2022-03-11T17:33:11.941530Z",
     "iopub.status.busy": "2022-03-11T17:33:11.940836Z",
     "iopub.status.idle": "2022-03-11T17:33:13.660668Z",
     "shell.execute_reply": "2022-03-11T17:33:13.659963Z",
     "shell.execute_reply.started": "2022-03-05T23:54:53.735601Z"
    },
    "papermill": {
     "duration": 1.774959,
     "end_time": "2022-03-11T17:33:13.660829",
     "exception": false,
     "start_time": "2022-03-11T17:33:11.885870",
     "status": "completed"
    },
    "tags": []
   },
   "outputs": [
    {
     "name": "stdout",
     "output_type": "stream",
     "text": [
      "              precision    recall  f1-score   support\n",
      "\n",
      "           0       0.98      1.00      0.99    170963\n",
      "           1       0.92      0.49      0.64      6199\n",
      "\n",
      "    accuracy                           0.98    177162\n",
      "   macro avg       0.95      0.75      0.82    177162\n",
      "weighted avg       0.98      0.98      0.98    177162\n",
      "\n",
      "Auc: 0.95\n"
     ]
    }
   ],
   "source": [
    "pred2 = reg2.predict(X_test)\n",
    "print(classification_report(y_test, pred2))\n",
    "print(f\"Auc: {round(roc_auc_score(pred2, y_test), 2)}\")"
   ]
  },
  {
   "cell_type": "code",
   "execution_count": 22,
   "id": "b8911084",
   "metadata": {
    "execution": {
     "iopub.execute_input": "2022-03-11T17:33:13.772646Z",
     "iopub.status.busy": "2022-03-11T17:33:13.771569Z",
     "iopub.status.idle": "2022-03-11T17:33:14.721601Z",
     "shell.execute_reply": "2022-03-11T17:33:14.720888Z",
     "shell.execute_reply.started": "2022-03-05T23:54:55.79265Z"
    },
    "papermill": {
     "duration": 1.008375,
     "end_time": "2022-03-11T17:33:14.721750",
     "exception": false,
     "start_time": "2022-03-11T17:33:13.713375",
     "status": "completed"
    },
    "tags": []
   },
   "outputs": [
    {
     "data": {
      "image/png": "[encoded data removed]",
      "text/plain": [
       "<Figure size 720x720 with 1 Axes>"
      ]
     },
     "metadata": {},
     "output_type": "display_data"
    }
   ],
   "source": [
    "plot_importance(reg2, X_train)"
   ]
  },
  {
   "cell_type": "code",
   "execution_count": 23,
   "id": "49db12bb",
   "metadata": {
    "execution": {
     "iopub.execute_input": "2022-03-11T17:33:14.837427Z",
     "iopub.status.busy": "2022-03-11T17:33:14.836735Z",
     "iopub.status.idle": "2022-03-11T17:33:19.073861Z",
     "shell.execute_reply": "2022-03-11T17:33:19.074517Z",
     "shell.execute_reply.started": "2022-03-05T23:54:56.732517Z"
    },
    "papermill": {
     "duration": 4.297927,
     "end_time": "2022-03-11T17:33:19.074721",
     "exception": false,
     "start_time": "2022-03-11T17:33:14.776794",
     "status": "completed"
    },
    "tags": []
   },
   "outputs": [],
   "source": [
    "predictions2 = reg2.predict_proba(test_df)[:,1]"
   ]
  },
  {
   "cell_type": "code",
   "execution_count": 24,
   "id": "b6c7fd07",
   "metadata": {
    "execution": {
     "iopub.execute_input": "2022-03-11T17:33:19.192473Z",
     "iopub.status.busy": "2022-03-11T17:33:19.191450Z",
     "iopub.status.idle": "2022-03-11T17:33:19.213958Z",
     "shell.execute_reply": "2022-03-11T17:33:19.214494Z",
     "shell.execute_reply.started": "2022-03-05T23:55:01.627307Z"
    },
    "papermill": {
     "duration": 0.081028,
     "end_time": "2022-03-11T17:33:19.214672",
     "exception": false,
     "start_time": "2022-03-11T17:33:19.133644",
     "status": "completed"
    },
    "tags": []
   },
   "outputs": [
    {
     "data": {
      "text/html": [
       "<div>\n",
       "<style scoped>\n",
       "    .dataframe tbody tr th:only-of-type {\n",
       "        vertical-align: middle;\n",
       "    }\n",
       "\n",
       "    .dataframe tbody tr th {\n",
       "        vertical-align: top;\n",
       "    }\n",
       "\n",
       "    .dataframe thead th {\n",
       "        text-align: right;\n",
       "    }\n",
       "</style>\n",
       "<table border=\"1\" class=\"dataframe\">\n",
       "  <thead>\n",
       "    <tr style=\"text-align: right;\">\n",
       "      <th></th>\n",
       "      <th>TransactionID</th>\n",
       "      <th>isFraud</th>\n",
       "    </tr>\n",
       "  </thead>\n",
       "  <tbody>\n",
       "    <tr>\n",
       "      <th>0</th>\n",
       "      <td>3663549</td>\n",
       "      <td>0.005178</td>\n",
       "    </tr>\n",
       "    <tr>\n",
       "      <th>1</th>\n",
       "      <td>3663550</td>\n",
       "      <td>0.002008</td>\n",
       "    </tr>\n",
       "    <tr>\n",
       "      <th>2</th>\n",
       "      <td>3663551</td>\n",
       "      <td>0.002815</td>\n",
       "    </tr>\n",
       "    <tr>\n",
       "      <th>3</th>\n",
       "      <td>3663552</td>\n",
       "      <td>0.001957</td>\n",
       "    </tr>\n",
       "    <tr>\n",
       "      <th>4</th>\n",
       "      <td>3663553</td>\n",
       "      <td>0.001499</td>\n",
       "    </tr>\n",
       "  </tbody>\n",
       "</table>\n",
       "</div>"
      ],
      "text/plain": [
       "   TransactionID   isFraud\n",
       "0        3663549  0.005178\n",
       "1        3663550  0.002008\n",
       "2        3663551  0.002815\n",
       "3        3663552  0.001957\n",
       "4        3663553  0.001499"
      ]
     },
     "execution_count": 24,
     "metadata": {},
     "output_type": "execute_result"
    }
   ],
   "source": [
    "submission = pd.DataFrame({'TransactionID':test_transaction['TransactionID'],'isFraud':predictions2})\n",
    "submission[\"TransactionID\"]=submission[\"TransactionID\"].astype(int)\n",
    "submission.head()"
   ]
  },
  {
   "cell_type": "code",
   "execution_count": 25,
   "id": "518baa18",
   "metadata": {
    "execution": {
     "iopub.execute_input": "2022-03-11T17:33:19.329854Z",
     "iopub.status.busy": "2022-03-11T17:33:19.328824Z",
     "iopub.status.idle": "2022-03-11T17:33:20.840462Z",
     "shell.execute_reply": "2022-03-11T17:33:20.839875Z",
     "shell.execute_reply.started": "2022-03-05T23:55:01.650154Z"
    },
    "papermill": {
     "duration": 1.570998,
     "end_time": "2022-03-11T17:33:20.840619",
     "exception": false,
     "start_time": "2022-03-11T17:33:19.269621",
     "status": "completed"
    },
    "tags": []
   },
   "outputs": [
    {
     "name": "stdout",
     "output_type": "stream",
     "text": [
      "Saved file: CIS Fraud Detection XGB.csv\n"
     ]
    }
   ],
   "source": [
    "filename = 'CIS Fraud Detection XGB.csv'\n",
    "\n",
    "submission.to_csv(filename,index=False)\n",
    "\n",
    "print('Saved file: ' + filename)"
   ]
  },
  {
   "cell_type": "code",
   "execution_count": 26,
   "id": "08be9fc7",
   "metadata": {
    "execution": {
     "iopub.execute_input": "2022-03-11T17:33:20.955295Z",
     "iopub.status.busy": "2022-03-11T17:33:20.954651Z",
     "iopub.status.idle": "2022-03-11T17:33:20.957528Z",
     "shell.execute_reply": "2022-03-11T17:33:20.958108Z",
     "shell.execute_reply.started": "2022-03-05T23:55:03.151633Z"
    },
    "papermill": {
     "duration": 0.061757,
     "end_time": "2022-03-11T17:33:20.958282",
     "exception": false,
     "start_time": "2022-03-11T17:33:20.896525",
     "status": "completed"
    },
    "tags": []
   },
   "outputs": [],
   "source": [
    "# Score: 0.891545\n",
    "# Public score: 0.916079"
   ]
  },
  {
   "cell_type": "markdown",
   "id": "91306688",
   "metadata": {
    "papermill": {
     "duration": 0.056662,
     "end_time": "2022-03-11T17:33:21.071739",
     "exception": false,
     "start_time": "2022-03-11T17:33:21.015077",
     "status": "completed"
    },
    "tags": []
   },
   "source": [
    "# Random Undersampling"
   ]
  },
  {
   "cell_type": "markdown",
   "id": "b6d2f4dd",
   "metadata": {
    "papermill": {
     "duration": 0.056182,
     "end_time": "2022-03-11T17:33:21.184892",
     "exception": false,
     "start_time": "2022-03-11T17:33:21.128710",
     "status": "completed"
    },
    "tags": []
   },
   "source": [
    "# lightgbm"
   ]
  },
  {
   "cell_type": "code",
   "execution_count": 27,
   "id": "d7c8a343",
   "metadata": {
    "execution": {
     "iopub.execute_input": "2022-03-11T17:33:21.298652Z",
     "iopub.status.busy": "2022-03-11T17:33:21.297953Z",
     "iopub.status.idle": "2022-03-11T17:33:25.243856Z",
     "shell.execute_reply": "2022-03-11T17:33:25.244388Z",
     "shell.execute_reply.started": "2022-03-05T23:55:03.16448Z"
    },
    "papermill": {
     "duration": 4.004448,
     "end_time": "2022-03-11T17:33:25.244569",
     "exception": false,
     "start_time": "2022-03-11T17:33:21.240121",
     "status": "completed"
    },
    "tags": []
   },
   "outputs": [
    {
     "name": "stdout",
     "output_type": "stream",
     "text": [
      "Before UnderSampling, counts of label '1': 14464\n",
      "Before UnderSampling, counts of label '0': 398914 \n",
      "\n",
      "After UnderSampling, the shape of train_X: (123978, 432)\n",
      "After UnderSampling, the shape of train_y: (123978,) \n",
      "\n",
      "After UnderSampling, counts of label '1': 20663\n",
      "After UnderSampling, counts of label '0': 103315\n"
     ]
    }
   ],
   "source": [
    "print(\"Before UnderSampling, counts of label '1': {}\".format(sum(y_train==1)))\n",
    "print(\"Before UnderSampling, counts of label '0': {} \\n\".format(sum(y_train==0)))\n",
    "\n",
    "undersample = RandomUnderSampler(sampling_strategy=0.2, random_state=3)\n",
    "\n",
    "X_train_res, y_train_res = undersample.fit_resample(X, y)\n",
    "\n",
    "print('After UnderSampling, the shape of train_X: {}'.format(X_train_res.shape))\n",
    "print('After UnderSampling, the shape of train_y: {} \\n'.format(y_train_res.shape))\n",
    "\n",
    "print(\"After UnderSampling, counts of label '1': {}\".format(sum(y_train_res==1)))\n",
    "print(\"After UnderSampling, counts of label '0': {}\".format(sum(y_train_res==0)))"
   ]
  },
  {
   "cell_type": "code",
   "execution_count": 28,
   "id": "164674a5",
   "metadata": {
    "execution": {
     "iopub.execute_input": "2022-03-11T17:33:25.361741Z",
     "iopub.status.busy": "2022-03-11T17:33:25.359887Z",
     "iopub.status.idle": "2022-03-11T17:33:35.908464Z",
     "shell.execute_reply": "2022-03-11T17:33:35.909417Z",
     "shell.execute_reply.started": "2022-03-05T23:55:08.614755Z"
    },
    "papermill": {
     "duration": 10.608611,
     "end_time": "2022-03-11T17:33:35.909639",
     "exception": false,
     "start_time": "2022-03-11T17:33:25.301028",
     "status": "completed"
    },
    "tags": []
   },
   "outputs": [
    {
     "data": {
      "text/plain": [
       "LGBMClassifier()"
      ]
     },
     "execution_count": 28,
     "metadata": {},
     "output_type": "execute_result"
    }
   ],
   "source": [
    "reg3 = LGBMClassifier()  \n",
    "reg3.fit(X_train_res,y_train_res) "
   ]
  },
  {
   "cell_type": "code",
   "execution_count": 29,
   "id": "19b3f4b5",
   "metadata": {
    "execution": {
     "iopub.execute_input": "2022-03-11T17:33:36.030717Z",
     "iopub.status.busy": "2022-03-11T17:33:36.030046Z",
     "iopub.status.idle": "2022-03-11T17:33:37.625265Z",
     "shell.execute_reply": "2022-03-11T17:33:37.624555Z",
     "shell.execute_reply.started": "2022-03-05T23:55:19.058006Z"
    },
    "papermill": {
     "duration": 1.658356,
     "end_time": "2022-03-11T17:33:37.625488",
     "exception": false,
     "start_time": "2022-03-11T17:33:35.967132",
     "status": "completed"
    },
    "tags": []
   },
   "outputs": [
    {
     "name": "stdout",
     "output_type": "stream",
     "text": [
      "              precision    recall  f1-score   support\n",
      "\n",
      "           0       0.99      0.99      0.99    170963\n",
      "           1       0.60      0.62      0.61      6199\n",
      "\n",
      "    accuracy                           0.97    177162\n",
      "   macro avg       0.80      0.80      0.80    177162\n",
      "weighted avg       0.97      0.97      0.97    177162\n",
      "\n",
      "Auc: 0.8\n"
     ]
    }
   ],
   "source": [
    "pred3 = reg3.predict(X_test) \n",
    "print(classification_report(y_test, pred3))\n",
    "print(f\"Auc: {round(roc_auc_score(pred3, y_test), 2)}\")"
   ]
  },
  {
   "cell_type": "code",
   "execution_count": 30,
   "id": "3442b002",
   "metadata": {
    "execution": {
     "iopub.execute_input": "2022-03-11T17:33:37.751413Z",
     "iopub.status.busy": "2022-03-11T17:33:37.750513Z",
     "iopub.status.idle": "2022-03-11T17:33:38.725107Z",
     "shell.execute_reply": "2022-03-11T17:33:38.725665Z",
     "shell.execute_reply.started": "2022-03-05T23:55:20.916204Z"
    },
    "papermill": {
     "duration": 1.043295,
     "end_time": "2022-03-11T17:33:38.725849",
     "exception": false,
     "start_time": "2022-03-11T17:33:37.682554",
     "status": "completed"
    },
    "tags": []
   },
   "outputs": [
    {
     "data": {
      "image/png": "[encoded data removed]",
      "text/plain": [
       "<Figure size 720x720 with 1 Axes>"
      ]
     },
     "metadata": {},
     "output_type": "display_data"
    }
   ],
   "source": [
    "plot_importance(reg3, X_train)"
   ]
  },
  {
   "cell_type": "code",
   "execution_count": 31,
   "id": "d36800ca",
   "metadata": {
    "execution": {
     "iopub.execute_input": "2022-03-11T17:33:38.852188Z",
     "iopub.status.busy": "2022-03-11T17:33:38.850277Z",
     "iopub.status.idle": "2022-03-11T17:33:42.934700Z",
     "shell.execute_reply": "2022-03-11T17:33:42.934052Z",
     "shell.execute_reply.started": "2022-03-05T23:55:21.873508Z"
    },
    "papermill": {
     "duration": 4.149141,
     "end_time": "2022-03-11T17:33:42.934854",
     "exception": false,
     "start_time": "2022-03-11T17:33:38.785713",
     "status": "completed"
    },
    "tags": []
   },
   "outputs": [],
   "source": [
    "predictions3 = reg3.predict_proba(test_df)[:,1]"
   ]
  },
  {
   "cell_type": "code",
   "execution_count": 32,
   "id": "2256d9cc",
   "metadata": {
    "execution": {
     "iopub.execute_input": "2022-03-11T17:33:43.061103Z",
     "iopub.status.busy": "2022-03-11T17:33:43.060363Z",
     "iopub.status.idle": "2022-03-11T17:33:43.073932Z",
     "shell.execute_reply": "2022-03-11T17:33:43.073265Z",
     "shell.execute_reply.started": "2022-03-05T23:55:27.219123Z"
    },
    "papermill": {
     "duration": 0.07956,
     "end_time": "2022-03-11T17:33:43.074083",
     "exception": false,
     "start_time": "2022-03-11T17:33:42.994523",
     "status": "completed"
    },
    "tags": []
   },
   "outputs": [
    {
     "data": {
      "text/html": [
       "<div>\n",
       "<style scoped>\n",
       "    .dataframe tbody tr th:only-of-type {\n",
       "        vertical-align: middle;\n",
       "    }\n",
       "\n",
       "    .dataframe tbody tr th {\n",
       "        vertical-align: top;\n",
       "    }\n",
       "\n",
       "    .dataframe thead th {\n",
       "        text-align: right;\n",
       "    }\n",
       "</style>\n",
       "<table border=\"1\" class=\"dataframe\">\n",
       "  <thead>\n",
       "    <tr style=\"text-align: right;\">\n",
       "      <th></th>\n",
       "      <th>TransactionID</th>\n",
       "      <th>isFraud</th>\n",
       "    </tr>\n",
       "  </thead>\n",
       "  <tbody>\n",
       "    <tr>\n",
       "      <th>0</th>\n",
       "      <td>3663549</td>\n",
       "      <td>0.028472</td>\n",
       "    </tr>\n",
       "    <tr>\n",
       "      <th>1</th>\n",
       "      <td>3663550</td>\n",
       "      <td>0.037163</td>\n",
       "    </tr>\n",
       "    <tr>\n",
       "      <th>2</th>\n",
       "      <td>3663551</td>\n",
       "      <td>0.057610</td>\n",
       "    </tr>\n",
       "    <tr>\n",
       "      <th>3</th>\n",
       "      <td>3663552</td>\n",
       "      <td>0.016393</td>\n",
       "    </tr>\n",
       "    <tr>\n",
       "      <th>4</th>\n",
       "      <td>3663553</td>\n",
       "      <td>0.017545</td>\n",
       "    </tr>\n",
       "  </tbody>\n",
       "</table>\n",
       "</div>"
      ],
      "text/plain": [
       "   TransactionID   isFraud\n",
       "0        3663549  0.028472\n",
       "1        3663550  0.037163\n",
       "2        3663551  0.057610\n",
       "3        3663552  0.016393\n",
       "4        3663553  0.017545"
      ]
     },
     "execution_count": 32,
     "metadata": {},
     "output_type": "execute_result"
    }
   ],
   "source": [
    "submission = pd.DataFrame({'TransactionID':test_transaction['TransactionID'],'isFraud':predictions3})\n",
    "submission[\"TransactionID\"]=submission[\"TransactionID\"].astype(int)\n",
    "submission.head()"
   ]
  },
  {
   "cell_type": "code",
   "execution_count": 33,
   "id": "be9fe3e2",
   "metadata": {
    "execution": {
     "iopub.execute_input": "2022-03-11T17:33:43.202002Z",
     "iopub.status.busy": "2022-03-11T17:33:43.201248Z",
     "iopub.status.idle": "2022-03-11T17:33:44.981021Z",
     "shell.execute_reply": "2022-03-11T17:33:44.980287Z",
     "shell.execute_reply.started": "2022-03-05T23:55:27.239769Z"
    },
    "papermill": {
     "duration": 1.846011,
     "end_time": "2022-03-11T17:33:44.981163",
     "exception": false,
     "start_time": "2022-03-11T17:33:43.135152",
     "status": "completed"
    },
    "tags": []
   },
   "outputs": [
    {
     "name": "stdout",
     "output_type": "stream",
     "text": [
      "Saved file: CIS Fraud Detection under sampling lgbm.csv\n"
     ]
    }
   ],
   "source": [
    "filename = 'CIS Fraud Detection under sampling lgbm.csv'\n",
    "\n",
    "submission.to_csv(filename,index=False)\n",
    "\n",
    "print('Saved file: ' + filename)"
   ]
  },
  {
   "cell_type": "code",
   "execution_count": 34,
   "id": "4bd00844",
   "metadata": {
    "execution": {
     "iopub.execute_input": "2022-03-11T17:33:45.106195Z",
     "iopub.status.busy": "2022-03-11T17:33:45.105595Z",
     "iopub.status.idle": "2022-03-11T17:33:45.108481Z",
     "shell.execute_reply": "2022-03-11T17:33:45.108978Z",
     "shell.execute_reply.started": "2022-03-05T23:55:29.044418Z"
    },
    "papermill": {
     "duration": 0.066918,
     "end_time": "2022-03-11T17:33:45.109178",
     "exception": false,
     "start_time": "2022-03-11T17:33:45.042260",
     "status": "completed"
    },
    "tags": []
   },
   "outputs": [],
   "source": [
    "# Score: 0.901909\n",
    "# Public score: 0.923298"
   ]
  },
  {
   "cell_type": "markdown",
   "id": "7d3d0930",
   "metadata": {
    "papermill": {
     "duration": 0.059518,
     "end_time": "2022-03-11T17:33:45.229611",
     "exception": false,
     "start_time": "2022-03-11T17:33:45.170093",
     "status": "completed"
    },
    "tags": []
   },
   "source": [
    "# xgb"
   ]
  },
  {
   "cell_type": "code",
   "execution_count": 35,
   "id": "18ecc3e2",
   "metadata": {
    "execution": {
     "iopub.execute_input": "2022-03-11T17:33:45.351802Z",
     "iopub.status.busy": "2022-03-11T17:33:45.351107Z",
     "iopub.status.idle": "2022-03-11T17:35:36.039598Z",
     "shell.execute_reply": "2022-03-11T17:35:36.040141Z",
     "shell.execute_reply.started": "2022-03-05T23:55:29.058186Z"
    },
    "papermill": {
     "duration": 110.751265,
     "end_time": "2022-03-11T17:35:36.040352",
     "exception": false,
     "start_time": "2022-03-11T17:33:45.289087",
     "status": "completed"
    },
    "tags": []
   },
   "outputs": [
    {
     "name": "stdout",
     "output_type": "stream",
     "text": [
      "[17:33:49] WARNING: ../src/learner.cc:1115: Starting in XGBoost 1.3.0, the default evaluation metric used with the objective 'binary:logistic' was changed from 'error' to 'logloss'. Explicitly set eval_metric if you'd like to restore the old behavior.\n"
     ]
    },
    {
     "data": {
      "text/plain": [
       "XGBClassifier(base_score=0.5, booster='gbtree', colsample_bylevel=1,\n",
       "              colsample_bynode=1, colsample_bytree=1, enable_categorical=False,\n",
       "              gamma=0, gpu_id=-1, importance_type=None,\n",
       "              interaction_constraints='', learning_rate=0.300000012,\n",
       "              max_delta_step=0, max_depth=6, min_child_weight=1, missing=nan,\n",
       "              monotone_constraints='()', n_estimators=100, n_jobs=4,\n",
       "              num_parallel_tree=1, predictor='auto', random_state=0,\n",
       "              reg_alpha=0, reg_lambda=1, scale_pos_weight=1, subsample=1,\n",
       "              tree_method='exact', validate_parameters=1, verbosity=None)"
      ]
     },
     "execution_count": 35,
     "metadata": {},
     "output_type": "execute_result"
    }
   ],
   "source": [
    "reg4 = XGBClassifier()   \n",
    "reg4.fit(X_train_res,y_train_res) "
   ]
  },
  {
   "cell_type": "code",
   "execution_count": 36,
   "id": "87aca689",
   "metadata": {
    "execution": {
     "iopub.execute_input": "2022-03-11T17:35:36.165008Z",
     "iopub.status.busy": "2022-03-11T17:35:36.164280Z",
     "iopub.status.idle": "2022-03-11T17:35:37.888876Z",
     "shell.execute_reply": "2022-03-11T17:35:37.889639Z",
     "shell.execute_reply.started": "2022-03-05T23:57:21.558424Z"
    },
    "papermill": {
     "duration": 1.788972,
     "end_time": "2022-03-11T17:35:37.889882",
     "exception": false,
     "start_time": "2022-03-11T17:35:36.100910",
     "status": "completed"
    },
    "tags": []
   },
   "outputs": [
    {
     "name": "stdout",
     "output_type": "stream",
     "text": [
      "              precision    recall  f1-score   support\n",
      "\n",
      "           0       0.99      0.99      0.99    170963\n",
      "           1       0.67      0.72      0.69      6199\n",
      "\n",
      "    accuracy                           0.98    177162\n",
      "   macro avg       0.83      0.85      0.84    177162\n",
      "weighted avg       0.98      0.98      0.98    177162\n",
      "\n",
      "Auc: 0.83\n"
     ]
    }
   ],
   "source": [
    "pred4 = reg4.predict(X_test) \n",
    "print(classification_report(y_test, pred4))\n",
    "print(f\"Auc: {round(roc_auc_score(pred4, y_test), 2)}\")"
   ]
  },
  {
   "cell_type": "code",
   "execution_count": 37,
   "id": "dfe8e17e",
   "metadata": {
    "execution": {
     "iopub.execute_input": "2022-03-11T17:35:38.016837Z",
     "iopub.status.busy": "2022-03-11T17:35:38.016118Z",
     "iopub.status.idle": "2022-03-11T17:35:38.969991Z",
     "shell.execute_reply": "2022-03-11T17:35:38.970526Z",
     "shell.execute_reply.started": "2022-03-05T23:57:23.52023Z"
    },
    "papermill": {
     "duration": 1.01867,
     "end_time": "2022-03-11T17:35:38.970722",
     "exception": false,
     "start_time": "2022-03-11T17:35:37.952052",
     "status": "completed"
    },
    "tags": []
   },
   "outputs": [
    {
     "data": {
      "image/png": "[encoded data removed]",
      "text/plain": [
       "<Figure size 720x720 with 1 Axes>"
      ]
     },
     "metadata": {},
     "output_type": "display_data"
    }
   ],
   "source": [
    "plot_importance(reg4, X_train)"
   ]
  },
  {
   "cell_type": "code",
   "execution_count": 38,
   "id": "651799d6",
   "metadata": {
    "execution": {
     "iopub.execute_input": "2022-03-11T17:35:39.104360Z",
     "iopub.status.busy": "2022-03-11T17:35:39.103680Z",
     "iopub.status.idle": "2022-03-11T17:35:43.245869Z",
     "shell.execute_reply": "2022-03-11T17:35:43.246509Z",
     "shell.execute_reply.started": "2022-03-05T23:57:24.466616Z"
    },
    "papermill": {
     "duration": 4.210585,
     "end_time": "2022-03-11T17:35:43.246715",
     "exception": false,
     "start_time": "2022-03-11T17:35:39.036130",
     "status": "completed"
    },
    "tags": []
   },
   "outputs": [],
   "source": [
    "predictions4 = reg4.predict_proba(test_df)[:,1]"
   ]
  },
  {
   "cell_type": "code",
   "execution_count": 39,
   "id": "a4926478",
   "metadata": {
    "execution": {
     "iopub.execute_input": "2022-03-11T17:35:43.379027Z",
     "iopub.status.busy": "2022-03-11T17:35:43.378092Z",
     "iopub.status.idle": "2022-03-11T17:35:43.392586Z",
     "shell.execute_reply": "2022-03-11T17:35:43.393169Z",
     "shell.execute_reply.started": "2022-03-05T23:57:29.351626Z"
    },
    "papermill": {
     "duration": 0.081371,
     "end_time": "2022-03-11T17:35:43.393364",
     "exception": false,
     "start_time": "2022-03-11T17:35:43.311993",
     "status": "completed"
    },
    "tags": []
   },
   "outputs": [
    {
     "data": {
      "text/html": [
       "<div>\n",
       "<style scoped>\n",
       "    .dataframe tbody tr th:only-of-type {\n",
       "        vertical-align: middle;\n",
       "    }\n",
       "\n",
       "    .dataframe tbody tr th {\n",
       "        vertical-align: top;\n",
       "    }\n",
       "\n",
       "    .dataframe thead th {\n",
       "        text-align: right;\n",
       "    }\n",
       "</style>\n",
       "<table border=\"1\" class=\"dataframe\">\n",
       "  <thead>\n",
       "    <tr style=\"text-align: right;\">\n",
       "      <th></th>\n",
       "      <th>TransactionID</th>\n",
       "      <th>isFraud</th>\n",
       "    </tr>\n",
       "  </thead>\n",
       "  <tbody>\n",
       "    <tr>\n",
       "      <th>0</th>\n",
       "      <td>3663549</td>\n",
       "      <td>0.003733</td>\n",
       "    </tr>\n",
       "    <tr>\n",
       "      <th>1</th>\n",
       "      <td>3663550</td>\n",
       "      <td>0.007927</td>\n",
       "    </tr>\n",
       "    <tr>\n",
       "      <th>2</th>\n",
       "      <td>3663551</td>\n",
       "      <td>0.053587</td>\n",
       "    </tr>\n",
       "    <tr>\n",
       "      <th>3</th>\n",
       "      <td>3663552</td>\n",
       "      <td>0.009734</td>\n",
       "    </tr>\n",
       "    <tr>\n",
       "      <th>4</th>\n",
       "      <td>3663553</td>\n",
       "      <td>0.011136</td>\n",
       "    </tr>\n",
       "  </tbody>\n",
       "</table>\n",
       "</div>"
      ],
      "text/plain": [
       "   TransactionID   isFraud\n",
       "0        3663549  0.003733\n",
       "1        3663550  0.007927\n",
       "2        3663551  0.053587\n",
       "3        3663552  0.009734\n",
       "4        3663553  0.011136"
      ]
     },
     "execution_count": 39,
     "metadata": {},
     "output_type": "execute_result"
    }
   ],
   "source": [
    "submission = pd.DataFrame({'TransactionID':test_transaction['TransactionID'],'isFraud':predictions4})\n",
    "submission[\"TransactionID\"]=submission[\"TransactionID\"].astype(int)\n",
    "submission.head()"
   ]
  },
  {
   "cell_type": "code",
   "execution_count": 40,
   "id": "c0f39441",
   "metadata": {
    "execution": {
     "iopub.execute_input": "2022-03-11T17:35:43.525496Z",
     "iopub.status.busy": "2022-03-11T17:35:43.524791Z",
     "iopub.status.idle": "2022-03-11T17:35:45.025184Z",
     "shell.execute_reply": "2022-03-11T17:35:45.025714Z",
     "shell.execute_reply.started": "2022-03-05T23:57:29.375771Z"
    },
    "papermill": {
     "duration": 1.568678,
     "end_time": "2022-03-11T17:35:45.025902",
     "exception": false,
     "start_time": "2022-03-11T17:35:43.457224",
     "status": "completed"
    },
    "tags": []
   },
   "outputs": [
    {
     "name": "stdout",
     "output_type": "stream",
     "text": [
      "Saved file: CIS Fraud Detection under sampling xgb.csv\n"
     ]
    }
   ],
   "source": [
    "filename = 'CIS Fraud Detection under sampling xgb.csv'\n",
    "\n",
    "submission.to_csv(filename,index=False)\n",
    "\n",
    "print('Saved file: ' + filename)"
   ]
  },
  {
   "cell_type": "code",
   "execution_count": 41,
   "id": "7a3866ac",
   "metadata": {
    "execution": {
     "iopub.execute_input": "2022-03-11T17:35:45.158534Z",
     "iopub.status.busy": "2022-03-11T17:35:45.157446Z",
     "iopub.status.idle": "2022-03-11T17:35:45.161818Z",
     "shell.execute_reply": "2022-03-11T17:35:45.161238Z",
     "shell.execute_reply.started": "2022-03-05T23:57:30.839577Z"
    },
    "papermill": {
     "duration": 0.072108,
     "end_time": "2022-03-11T17:35:45.161963",
     "exception": false,
     "start_time": "2022-03-11T17:35:45.089855",
     "status": "completed"
    },
    "tags": []
   },
   "outputs": [],
   "source": [
    "# Score: 0.892110\n",
    "# Public score: 0.920813"
   ]
  },
  {
   "cell_type": "code",
   "execution_count": null,
   "id": "2a231019",
   "metadata": {
    "papermill": {
     "duration": 0.066193,
     "end_time": "2022-03-11T17:35:45.292035",
     "exception": false,
     "start_time": "2022-03-11T17:35:45.225842",
     "status": "completed"
    },
    "tags": []
   },
   "outputs": [],
   "source": []
  },
  {
   "cell_type": "code",
   "execution_count": null,
   "id": "e7fde3d3",
   "metadata": {
    "papermill": {
     "duration": 0.064099,
     "end_time": "2022-03-11T17:35:45.421309",
     "exception": false,
     "start_time": "2022-03-11T17:35:45.357210",
     "status": "completed"
    },
    "tags": []
   },
   "outputs": [],
   "source": []
  }
 ],
 "metadata": {
  "kernelspec": {
   "display_name": "Python 3",
   "language": "python",
   "name": "python3"
  },
  "language_info": {
   "codemirror_mode": {
    "name": "ipython",
    "version": 3
   },
   "file_extension": ".py",
   "mimetype": "text/x-python",
   "name": "python",
   "nbconvert_exporter": "python",
   "pygments_lexer": "ipython3",
   "version": "3.7.12"
  },
  "papermill": {
   "default_parameters": {},
   "duration": 924.750016,
   "end_time": "2022-03-11T17:35:46.702590",
   "environment_variables": {},
   "exception": null,
   "input_path": "__notebook__.ipynb",
   "output_path": "__notebook__.ipynb",
   "parameters": {},
   "start_time": "2022-03-11T17:20:21.952574",
   "version": "2.3.3"
  }
 },
 "nbformat": 4,
 "nbformat_minor": 5
}
