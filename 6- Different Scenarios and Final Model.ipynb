{
 "cells": [
  {
   "cell_type": "code",
   "execution_count": 1,
   "id": "7fde102c",
   "metadata": {
    "execution": {
     "iopub.execute_input": "2022-03-11T18:30:01.644481Z",
     "iopub.status.busy": "2022-03-11T18:30:01.643458Z",
     "iopub.status.idle": "2022-03-11T18:30:04.058591Z",
     "shell.execute_reply": "2022-03-11T18:30:04.057913Z",
     "shell.execute_reply.started": "2022-03-11T18:28:50.073278Z"
    },
    "papermill": {
     "duration": 2.48253,
     "end_time": "2022-03-11T18:30:04.058792",
     "exception": false,
     "start_time": "2022-03-11T18:30:01.576262",
     "status": "completed"
    },
    "tags": []
   },
   "outputs": [
    {
     "data": {
      "text/html": [
       "<style type='text/css'>\n",
       ".datatable table.frame { margin-bottom: 0; }\n",
       ".datatable table.frame thead { border-bottom: none; }\n",
       ".datatable table.frame tr.coltypes td {  color: #FFFFFF;  line-height: 6px;  padding: 0 0.5em;}\n",
       ".datatable .bool    { background: #DDDD99; }\n",
       ".datatable .object  { background: #565656; }\n",
       ".datatable .int     { background: #5D9E5D; }\n",
       ".datatable .float   { background: #4040CC; }\n",
       ".datatable .str     { background: #CC4040; }\n",
       ".datatable .time    { background: #40CC40; }\n",
       ".datatable .row_index {  background: var(--jp-border-color3);  border-right: 1px solid var(--jp-border-color0);  color: var(--jp-ui-font-color3);  font-size: 9px;}\n",
       ".datatable .frame tbody td { text-align: left; }\n",
       ".datatable .frame tr.coltypes .row_index {  background: var(--jp-border-color0);}\n",
       ".datatable th:nth-child(2) { padding-left: 12px; }\n",
       ".datatable .hellipsis {  color: var(--jp-cell-editor-border-color);}\n",
       ".datatable .vellipsis {  background: var(--jp-layout-color0);  color: var(--jp-cell-editor-border-color);}\n",
       ".datatable .na {  color: var(--jp-cell-editor-border-color);  font-size: 80%;}\n",
       ".datatable .sp {  opacity: 0.25;}\n",
       ".datatable .footer { font-size: 9px; }\n",
       ".datatable .frame_dimensions {  background: var(--jp-border-color3);  border-top: 1px solid var(--jp-border-color0);  color: var(--jp-ui-font-color3);  display: inline-block;  opacity: 0.6;  padding: 1px 10px 1px 5px;}\n",
       "</style>\n"
      ],
      "text/plain": [
       "<IPython.core.display.HTML object>"
      ]
     },
     "metadata": {},
     "output_type": "display_data"
    }
   ],
   "source": [
    "import numpy as np\n",
    "import pandas as pd\n",
    "import seaborn as sns\n",
    "import matplotlib.pyplot as plt\n",
    "import warnings\n",
    "import gc\n",
    "import datetime\n",
    "from sklearn.model_selection import train_test_split,cross_val_score,GridSearchCV,cross_validate\n",
    "from sklearn.preprocessing import MinMaxScaler,LabelEncoder, StandardScaler, RobustScaler\n",
    "from sklearn.exceptions import ConvergenceWarning\n",
    "from sklearn.metrics import accuracy_score,recall_score,precision_score,f1_score,roc_auc_score, classification_report\n",
    "from xgboost import XGBClassifier\n",
    "from lightgbm import LGBMClassifier\n",
    "from imblearn.under_sampling import RandomUnderSampler"
   ]
  },
  {
   "cell_type": "code",
   "execution_count": 2,
   "id": "730d97f2",
   "metadata": {
    "execution": {
     "iopub.execute_input": "2022-03-11T18:30:04.180274Z",
     "iopub.status.busy": "2022-03-11T18:30:04.179416Z",
     "iopub.status.idle": "2022-03-11T18:30:04.181960Z",
     "shell.execute_reply": "2022-03-11T18:30:04.181463Z",
     "shell.execute_reply.started": "2022-03-11T18:28:52.871019Z"
    },
    "papermill": {
     "duration": 0.063225,
     "end_time": "2022-03-11T18:30:04.182098",
     "exception": false,
     "start_time": "2022-03-11T18:30:04.118873",
     "status": "completed"
    },
    "tags": []
   },
   "outputs": [],
   "source": [
    "warnings.simplefilter(\"ignore\")\n",
    "pd.set_option('display.max_columns', None)\n",
    "pd.set_option('display.max_rows', None)"
   ]
  },
  {
   "cell_type": "code",
   "execution_count": 3,
   "id": "52950613",
   "metadata": {
    "execution": {
     "iopub.execute_input": "2022-03-11T18:30:04.298908Z",
     "iopub.status.busy": "2022-03-11T18:30:04.298113Z",
     "iopub.status.idle": "2022-03-11T18:31:06.392937Z",
     "shell.execute_reply": "2022-03-11T18:31:06.393444Z",
     "shell.execute_reply.started": "2022-03-11T18:28:52.879205Z"
    },
    "papermill": {
     "duration": 62.155646,
     "end_time": "2022-03-11T18:31:06.393635",
     "exception": false,
     "start_time": "2022-03-11T18:30:04.237989",
     "status": "completed"
    },
    "tags": []
   },
   "outputs": [],
   "source": [
    "train_transaction=pd.read_csv('../input/ieee-fraud-detection/train_transaction.csv')\n",
    "train_identity=pd.read_csv('../input/ieee-fraud-detection/train_identity.csv')\n",
    "test_transaction=pd.read_csv('../input/ieee-fraud-detection/test_transaction.csv')\n",
    "test_identity=pd.read_csv('../input/ieee-fraud-detection/test_identity.csv')\n",
    "sample_submission=pd.read_csv('../input/ieee-fraud-detection/sample_submission.csv')"
   ]
  },
  {
   "cell_type": "code",
   "execution_count": 4,
   "id": "7b7c56fc",
   "metadata": {
    "execution": {
     "iopub.execute_input": "2022-03-11T18:31:06.509489Z",
     "iopub.status.busy": "2022-03-11T18:31:06.508496Z",
     "iopub.status.idle": "2022-03-11T18:31:18.413134Z",
     "shell.execute_reply": "2022-03-11T18:31:18.412542Z",
     "shell.execute_reply.started": "2022-03-11T18:29:00.289299Z"
    },
    "papermill": {
     "duration": 11.963095,
     "end_time": "2022-03-11T18:31:18.413273",
     "exception": false,
     "start_time": "2022-03-11T18:31:06.450178",
     "status": "completed"
    },
    "tags": []
   },
   "outputs": [],
   "source": [
    "train_df = train_transaction.merge(train_identity, how=\"left\", on=\"TransactionID\")\n",
    "\n",
    "test_df = test_transaction.merge(test_identity, how=\"left\", on=\"TransactionID\")"
   ]
  },
  {
   "cell_type": "code",
   "execution_count": 5,
   "id": "389266a8",
   "metadata": {
    "execution": {
     "iopub.execute_input": "2022-03-11T18:31:18.528455Z",
     "iopub.status.busy": "2022-03-11T18:31:18.527818Z",
     "iopub.status.idle": "2022-03-11T18:31:22.365047Z",
     "shell.execute_reply": "2022-03-11T18:31:22.364442Z",
     "shell.execute_reply.started": "2022-03-11T18:29:00.291347Z"
    },
    "papermill": {
     "duration": 3.895505,
     "end_time": "2022-03-11T18:31:22.365199",
     "exception": false,
     "start_time": "2022-03-11T18:31:18.469694",
     "status": "completed"
    },
    "tags": []
   },
   "outputs": [],
   "source": [
    "test_df= test_df.rename(columns=lambda x:\"_\".join(x.split(\"-\")))"
   ]
  },
  {
   "cell_type": "markdown",
   "id": "aceba5a9",
   "metadata": {
    "papermill": {
     "duration": 0.055392,
     "end_time": "2022-03-11T18:31:22.476340",
     "exception": false,
     "start_time": "2022-03-11T18:31:22.420948",
     "status": "completed"
    },
    "tags": []
   },
   "source": [
    "# Reduce Memory"
   ]
  },
  {
   "cell_type": "code",
   "execution_count": 6,
   "id": "1b436e8b",
   "metadata": {
    "execution": {
     "iopub.execute_input": "2022-03-11T18:31:22.592207Z",
     "iopub.status.busy": "2022-03-11T18:31:22.591219Z",
     "iopub.status.idle": "2022-03-11T18:31:22.605140Z",
     "shell.execute_reply": "2022-03-11T18:31:22.605743Z",
     "shell.execute_reply.started": "2022-03-11T18:29:00.293640Z"
    },
    "papermill": {
     "duration": 0.073835,
     "end_time": "2022-03-11T18:31:22.605920",
     "exception": false,
     "start_time": "2022-03-11T18:31:22.532085",
     "status": "completed"
    },
    "tags": []
   },
   "outputs": [],
   "source": [
    "# From kernel https://www.kaggle.com/gemartin/load-data-reduce-memory-usage\n",
    "\n",
    "def reduce_mem_usage(df, verbose=True):\n",
    "    numerics = ['int16', 'int32', 'int64', 'float16', 'float32', 'float64']\n",
    "    start_mem = df.memory_usage().sum() / 1024**2    \n",
    "    for col in df.columns:\n",
    "        col_type = df[col].dtypes\n",
    "        if col_type in numerics:\n",
    "            c_min = df[col].min()\n",
    "            c_max = df[col].max()\n",
    "            if str(col_type)[:3] == 'int':\n",
    "                if c_min > np.iinfo(np.int8).min and c_max < np.iinfo(np.int8).max:\n",
    "                    df[col] = df[col].astype(np.int8)\n",
    "                elif c_min > np.iinfo(np.int16).min and c_max < np.iinfo(np.int16).max:\n",
    "                    df[col] = df[col].astype(np.int16)\n",
    "                elif c_min > np.iinfo(np.int32).min and c_max < np.iinfo(np.int32).max:\n",
    "                    df[col] = df[col].astype(np.int32)\n",
    "                elif c_min > np.iinfo(np.int64).min and c_max < np.iinfo(np.int64).max:\n",
    "                    df[col] = df[col].astype(np.int64)  \n",
    "            else:\n",
    "                if c_min > np.finfo(np.float16).min and c_max < np.finfo(np.float16).max:\n",
    "                    df[col] = df[col].astype(np.float16)\n",
    "                elif c_min > np.finfo(np.float32).min and c_max < np.finfo(np.float32).max:\n",
    "                    df[col] = df[col].astype(np.float32)\n",
    "                else:\n",
    "                    df[col] = df[col].astype(np.float64)    \n",
    "    end_mem = df.memory_usage().sum() / 1024**2\n",
    "    if verbose: print('Mem. usage decreased to {:5.2f} Mb ({:.1f}% reduction)'.format(end_mem, 100 * (start_mem - end_mem) / start_mem))\n",
    "    return df"
   ]
  },
  {
   "cell_type": "code",
   "execution_count": 7,
   "id": "e119bf43",
   "metadata": {
    "execution": {
     "iopub.execute_input": "2022-03-11T18:31:22.721263Z",
     "iopub.status.busy": "2022-03-11T18:31:22.720348Z",
     "iopub.status.idle": "2022-03-11T18:31:22.723354Z",
     "shell.execute_reply": "2022-03-11T18:31:22.723962Z",
     "shell.execute_reply.started": "2022-03-11T18:29:00.295487Z"
    },
    "papermill": {
     "duration": 0.062206,
     "end_time": "2022-03-11T18:31:22.724148",
     "exception": false,
     "start_time": "2022-03-11T18:31:22.661942",
     "status": "completed"
    },
    "tags": []
   },
   "outputs": [],
   "source": [
    "# train_df = reduce_mem_usage(train_df)\n",
    "# test_df  = reduce_mem_usage(test_df)"
   ]
  },
  {
   "cell_type": "markdown",
   "id": "6c72d4b1",
   "metadata": {
    "papermill": {
     "duration": 0.055073,
     "end_time": "2022-03-11T18:31:22.835573",
     "exception": false,
     "start_time": "2022-03-11T18:31:22.780500",
     "status": "completed"
    },
    "tags": []
   },
   "source": [
    "# Useless From Eda"
   ]
  },
  {
   "cell_type": "code",
   "execution_count": 8,
   "id": "cb600861",
   "metadata": {
    "execution": {
     "iopub.execute_input": "2022-03-11T18:31:22.950998Z",
     "iopub.status.busy": "2022-03-11T18:31:22.950024Z",
     "iopub.status.idle": "2022-03-11T18:31:26.440311Z",
     "shell.execute_reply": "2022-03-11T18:31:26.439699Z",
     "shell.execute_reply.started": "2022-03-11T18:29:00.297737Z"
    },
    "papermill": {
     "duration": 3.549072,
     "end_time": "2022-03-11T18:31:26.440462",
     "exception": false,
     "start_time": "2022-03-11T18:31:22.891390",
     "status": "completed"
    },
    "tags": []
   },
   "outputs": [],
   "source": [
    "train_df.drop(['M1','id_27','V1','V14','V41','V68','V305'],inplace=True,axis=1)\n",
    "test_df.drop(['M1','id_27','V1','V14','V41','V68','V305'],inplace=True,axis=1)"
   ]
  },
  {
   "cell_type": "markdown",
   "id": "332e1c07",
   "metadata": {
    "papermill": {
     "duration": 0.056042,
     "end_time": "2022-03-11T18:31:26.556576",
     "exception": false,
     "start_time": "2022-03-11T18:31:26.500534",
     "status": "completed"
    },
    "tags": []
   },
   "source": [
    "# Some Outliers"
   ]
  },
  {
   "cell_type": "code",
   "execution_count": 9,
   "id": "4b5d381c",
   "metadata": {
    "execution": {
     "iopub.execute_input": "2022-03-11T18:31:26.670936Z",
     "iopub.status.busy": "2022-03-11T18:31:26.669935Z",
     "iopub.status.idle": "2022-03-11T18:31:26.674285Z",
     "shell.execute_reply": "2022-03-11T18:31:26.674834Z",
     "shell.execute_reply.started": "2022-03-11T18:29:00.299688Z"
    },
    "papermill": {
     "duration": 0.06312,
     "end_time": "2022-03-11T18:31:26.674995",
     "exception": false,
     "start_time": "2022-03-11T18:31:26.611875",
     "status": "completed"
    },
    "tags": []
   },
   "outputs": [],
   "source": [
    "# droptamt = train_df[train_df['TransactionAmt']>10000].index\n",
    "# train_df.drop(droptamt, inplace=True)\n",
    "\n",
    "# dropdist1 = train_df[train_df['dist1']>6000].index\n",
    "# train_df.drop(dropdist1, inplace=True)\n",
    "\n",
    "# dropdist2 = train_df[train_df['dist2']>8000].index\n",
    "# train_df.drop(dropdist2, inplace=True)\n",
    "\n",
    "# dropc1 = train_df[train_df['C1'] > 2000].index\n",
    "# train_df.drop(dropc1, inplace=True)\n",
    "\n",
    "# dropc2 = train_df[train_df['C2'] > 2000].index\n",
    "# train_df.drop(dropc2, inplace=True)\n",
    "\n",
    "# #dropping the -ve values\n",
    "# dropd4 = train_df[train_df['D4']<0].index\n",
    "# train_df.drop(dropd4, inplace=True)\n",
    "\n",
    "# dropd6 = train_df[train_df['D6']<0].index\n",
    "# train_df.drop(dropd6, inplace=True)\n",
    "\n",
    "# dropd11 = train_df[train_df['D11']<0].index\n",
    "# train_df.drop(dropd11, inplace=True)\n",
    "\n",
    "# dropd12 = train_df[train_df['D12']<0].index\n",
    "# train_df.drop(dropd12, inplace=True)\n",
    "\n",
    "# dropd14 = train_df[train_df['D14']<0].index\n",
    "# train_df.drop(dropd14, inplace=True)\n",
    "\n",
    "# dropd15 = train_df[train_df['D15']<0].index\n",
    "# train_df.drop(dropd15, inplace=True)"
   ]
  },
  {
   "cell_type": "code",
   "execution_count": 10,
   "id": "afea01a6",
   "metadata": {
    "execution": {
     "iopub.execute_input": "2022-03-11T18:31:26.789005Z",
     "iopub.status.busy": "2022-03-11T18:31:26.788061Z",
     "iopub.status.idle": "2022-03-11T18:31:26.795122Z",
     "shell.execute_reply": "2022-03-11T18:31:26.795606Z",
     "shell.execute_reply.started": "2022-03-11T18:29:00.302580Z"
    },
    "papermill": {
     "duration": 0.065633,
     "end_time": "2022-03-11T18:31:26.795799",
     "exception": false,
     "start_time": "2022-03-11T18:31:26.730166",
     "status": "completed"
    },
    "tags": []
   },
   "outputs": [],
   "source": [
    "def missing_values_table(dataframe, na_name=False):\n",
    "    na_columns = [col for col in dataframe.columns if dataframe[col].isnull().sum() > 0]\n",
    "\n",
    "    n_miss = dataframe[na_columns].isnull().sum().sort_values(ascending=False)\n",
    "    ratio = (dataframe[na_columns].isnull().sum() / dataframe.shape[0] * 100).sort_values(ascending=False)\n",
    "    missing_df = pd.concat([n_miss, np.round(ratio, 2)], axis=1, keys=['n_miss', 'ratio'])\n",
    "    print(missing_df, end=\"\\n\")\n",
    "    \n",
    "    if na_name:\n",
    "        return na_columns,missing_df"
   ]
  },
  {
   "cell_type": "code",
   "execution_count": 11,
   "id": "8f49536b",
   "metadata": {
    "execution": {
     "iopub.execute_input": "2022-03-11T18:31:26.912464Z",
     "iopub.status.busy": "2022-03-11T18:31:26.911800Z",
     "iopub.status.idle": "2022-03-11T18:31:33.855374Z",
     "shell.execute_reply": "2022-03-11T18:31:33.856788Z",
     "shell.execute_reply.started": "2022-03-11T18:29:00.304770Z"
    },
    "papermill": {
     "duration": 7.004897,
     "end_time": "2022-03-11T18:31:33.857045",
     "exception": false,
     "start_time": "2022-03-11T18:31:26.852148",
     "status": "completed"
    },
    "tags": []
   },
   "outputs": [
    {
     "name": "stdout",
     "output_type": "stream",
     "text": [
      "               n_miss  ratio\n",
      "id_24          585793  99.20\n",
      "id_25          585408  99.13\n",
      "id_07          585385  99.13\n",
      "id_08          585385  99.13\n",
      "id_21          585381  99.13\n",
      "id_26          585377  99.13\n",
      "id_23          585371  99.12\n",
      "id_22          585371  99.12\n",
      "dist2          552913  93.63\n",
      "D7             551623  93.41\n",
      "id_18          545427  92.36\n",
      "D13            528588  89.51\n",
      "D14            528353  89.47\n",
      "D12            525823  89.04\n",
      "id_03          524216  88.77\n",
      "id_04          524216  88.77\n",
      "D6             517353  87.61\n",
      "id_33          517251  87.59\n",
      "id_10          515614  87.31\n",
      "id_09          515614  87.31\n",
      "D8             515614  87.31\n",
      "D9             515614  87.31\n",
      "id_30          512975  86.87\n",
      "id_32          512954  86.86\n",
      "id_34          512735  86.82\n",
      "id_14          510496  86.45\n",
      "V156           508595  86.12\n",
      "V148           508595  86.12\n",
      "V155           508595  86.12\n",
      "V157           508595  86.12\n",
      "V158           508595  86.12\n",
      "V154           508595  86.12\n",
      "V153           508595  86.12\n",
      "V161           508595  86.12\n",
      "V162           508595  86.12\n",
      "V147           508595  86.12\n",
      "V142           508595  86.12\n",
      "V139           508595  86.12\n",
      "V140           508595  86.12\n",
      "V141           508595  86.12\n",
      "V138           508595  86.12\n",
      "V163           508595  86.12\n",
      "V146           508595  86.12\n",
      "V149           508595  86.12\n",
      "V160           508589  86.12\n",
      "V159           508589  86.12\n",
      "V164           508589  86.12\n",
      "V165           508589  86.12\n",
      "V152           508589  86.12\n",
      "V151           508589  86.12\n",
      "V150           508589  86.12\n",
      "V166           508589  86.12\n",
      "V145           508589  86.12\n",
      "V144           508589  86.12\n",
      "V143           508589  86.12\n",
      "V323           508189  86.05\n",
      "V333           508189  86.05\n",
      "V338           508189  86.05\n",
      "V337           508189  86.05\n",
      "V336           508189  86.05\n",
      "V335           508189  86.05\n",
      "V334           508189  86.05\n",
      "V332           508189  86.05\n",
      "V322           508189  86.05\n",
      "V331           508189  86.05\n",
      "V330           508189  86.05\n",
      "V329           508189  86.05\n",
      "V328           508189  86.05\n",
      "V327           508189  86.05\n",
      "V326           508189  86.05\n",
      "V325           508189  86.05\n",
      "V324           508189  86.05\n",
      "V339           508189  86.05\n",
      "DeviceInfo     471874  79.91\n",
      "id_13          463220  78.44\n",
      "id_16          461200  78.10\n",
      "V252           460110  77.91\n",
      "V266           460110  77.91\n",
      "V254           460110  77.91\n",
      "V257           460110  77.91\n",
      "V258           460110  77.91\n",
      "V260           460110  77.91\n",
      "V261           460110  77.91\n",
      "V262           460110  77.91\n",
      "V263           460110  77.91\n",
      "V264           460110  77.91\n",
      "V265           460110  77.91\n",
      "V267           460110  77.91\n",
      "V217           460110  77.91\n",
      "V268           460110  77.91\n",
      "V269           460110  77.91\n",
      "V273           460110  77.91\n",
      "V274           460110  77.91\n",
      "V275           460110  77.91\n",
      "V276           460110  77.91\n",
      "V277           460110  77.91\n",
      "V278           460110  77.91\n",
      "V249           460110  77.91\n",
      "V232           460110  77.91\n",
      "V218           460110  77.91\n",
      "V240           460110  77.91\n",
      "V223           460110  77.91\n",
      "V224           460110  77.91\n",
      "V225           460110  77.91\n",
      "V219           460110  77.91\n",
      "V226           460110  77.91\n",
      "V228           460110  77.91\n",
      "V229           460110  77.91\n",
      "V230           460110  77.91\n",
      "V231           460110  77.91\n",
      "V253           460110  77.91\n",
      "V233           460110  77.91\n",
      "V236           460110  77.91\n",
      "V237           460110  77.91\n",
      "V235           460110  77.91\n",
      "V241           460110  77.91\n",
      "V243           460110  77.91\n",
      "V244           460110  77.91\n",
      "V246           460110  77.91\n",
      "V247           460110  77.91\n",
      "V248           460110  77.91\n",
      "V242           460110  77.91\n",
      "id_05          453675  76.82\n",
      "id_06          453675  76.82\n",
      "R_emaildomain  453249  76.75\n",
      "id_20          451279  76.42\n",
      "id_19          451222  76.41\n",
      "id_17          451171  76.40\n",
      "V179           450909  76.36\n",
      "V167           450909  76.36\n",
      "V168           450909  76.36\n",
      "V172           450909  76.36\n",
      "V173           450909  76.36\n",
      "V176           450909  76.36\n",
      "V177           450909  76.36\n",
      "V216           450909  76.36\n",
      "V178           450909  76.36\n",
      "V191           450909  76.36\n",
      "V202           450909  76.36\n",
      "V204           450909  76.36\n",
      "V199           450909  76.36\n",
      "V205           450909  76.36\n",
      "V181           450909  76.36\n",
      "V196           450909  76.36\n",
      "V206           450909  76.36\n",
      "V207           450909  76.36\n",
      "V193           450909  76.36\n",
      "V192           450909  76.36\n",
      "V190           450909  76.36\n",
      "V203           450909  76.36\n",
      "V187           450909  76.36\n",
      "V186           450909  76.36\n",
      "V211           450909  76.36\n",
      "V212           450909  76.36\n",
      "V213           450909  76.36\n",
      "V214           450909  76.36\n",
      "V215           450909  76.36\n",
      "V183           450909  76.36\n",
      "V182           450909  76.36\n",
      "V208           450721  76.32\n",
      "V210           450721  76.32\n",
      "V209           450721  76.32\n",
      "V180           450721  76.32\n",
      "V201           450721  76.32\n",
      "V200           450721  76.32\n",
      "V198           450721  76.32\n",
      "V195           450721  76.32\n",
      "V194           450721  76.32\n",
      "V189           450721  76.32\n",
      "V188           450721  76.32\n",
      "V169           450721  76.32\n",
      "V170           450721  76.32\n",
      "V171           450721  76.32\n",
      "V185           450721  76.32\n",
      "V184           450721  76.32\n",
      "V175           450721  76.32\n",
      "V197           450721  76.32\n",
      "V174           450721  76.32\n",
      "id_31          450258  76.25\n",
      "DeviceType     449730  76.16\n",
      "id_02          449668  76.15\n",
      "id_29          449562  76.13\n",
      "id_28          449562  76.13\n",
      "id_11          449562  76.13\n",
      "id_38          449555  76.13\n",
      "id_37          449555  76.13\n",
      "id_36          449555  76.13\n",
      "id_35          449555  76.13\n",
      "id_15          449555  76.13\n",
      "V251           449124  76.05\n",
      "V255           449124  76.05\n",
      "V227           449124  76.05\n",
      "V259           449124  76.05\n",
      "V250           449124  76.05\n",
      "V234           449124  76.05\n",
      "V245           449124  76.05\n",
      "V222           449124  76.05\n",
      "V221           449124  76.05\n",
      "V272           449124  76.05\n",
      "V239           449124  76.05\n",
      "V270           449124  76.05\n",
      "V271           449124  76.05\n",
      "V238           449124  76.05\n",
      "V256           449124  76.05\n",
      "V220           449124  76.05\n",
      "id_12          446307  75.58\n",
      "id_01          446307  75.58\n",
      "dist1          352271  59.65\n",
      "M5             350482  59.35\n",
      "M7             346265  58.64\n",
      "M9             346252  58.63\n",
      "M8             346252  58.63\n",
      "D5             309841  52.47\n",
      "M4             281444  47.66\n",
      "D2             280797  47.55\n",
      "V11            279287  47.29\n",
      "V9             279287  47.29\n",
      "V10            279287  47.29\n",
      "V2             279287  47.29\n",
      "V8             279287  47.29\n",
      "V3             279287  47.29\n",
      "V6             279287  47.29\n",
      "V5             279287  47.29\n",
      "V4             279287  47.29\n",
      "D11            279287  47.29\n",
      "V7             279287  47.29\n",
      "M2             271100  45.91\n",
      "M3             271100  45.91\n",
      "D3             262878  44.51\n",
      "M6             169360  28.68\n",
      "V38            168969  28.61\n",
      "V45            168969  28.61\n",
      "V44            168969  28.61\n",
      "V43            168969  28.61\n",
      "V42            168969  28.61\n",
      "V46            168969  28.61\n",
      "V47            168969  28.61\n",
      "V50            168969  28.61\n",
      "V48            168969  28.61\n",
      "V49            168969  28.61\n",
      "V40            168969  28.61\n",
      "V39            168969  28.61\n",
      "V35            168969  28.61\n",
      "V51            168969  28.61\n",
      "V37            168969  28.61\n",
      "V36            168969  28.61\n",
      "V52            168969  28.61\n",
      "D4             168922  28.60\n",
      "P_emaildomain   94456  15.99\n",
      "V94             89164  15.10\n",
      "V93             89164  15.10\n",
      "V91             89164  15.10\n",
      "V90             89164  15.10\n",
      "V89             89164  15.10\n",
      "V88             89164  15.10\n",
      "V87             89164  15.10\n",
      "V86             89164  15.10\n",
      "V85             89164  15.10\n",
      "V84             89164  15.10\n",
      "V83             89164  15.10\n",
      "V82             89164  15.10\n",
      "V81             89164  15.10\n",
      "V80             89164  15.10\n",
      "V79             89164  15.10\n",
      "V78             89164  15.10\n",
      "V77             89164  15.10\n",
      "V76             89164  15.10\n",
      "V75             89164  15.10\n",
      "V92             89164  15.10\n",
      "D15             89113  15.09\n",
      "V69             77096  13.06\n",
      "V53             77096  13.06\n",
      "V64             77096  13.06\n",
      "V54             77096  13.06\n",
      "V74             77096  13.06\n",
      "V73             77096  13.06\n",
      "V72             77096  13.06\n",
      "V71             77096  13.06\n",
      "V67             77096  13.06\n",
      "V66             77096  13.06\n",
      "V65             77096  13.06\n",
      "V70             77096  13.06\n",
      "V63             77096  13.06\n",
      "V61             77096  13.06\n",
      "V60             77096  13.06\n",
      "V59             77096  13.06\n",
      "V58             77096  13.06\n",
      "V57             77096  13.06\n",
      "V56             77096  13.06\n",
      "V62             77096  13.06\n",
      "V55             77096  13.06\n",
      "V15             76073  12.88\n",
      "V25             76073  12.88\n",
      "V24             76073  12.88\n",
      "V23             76073  12.88\n",
      "V13             76073  12.88\n",
      "V19             76073  12.88\n",
      "V16             76073  12.88\n",
      "V17             76073  12.88\n",
      "V18             76073  12.88\n",
      "V27             76073  12.88\n",
      "V20             76073  12.88\n",
      "V26             76073  12.88\n",
      "V34             76073  12.88\n",
      "V28             76073  12.88\n",
      "V29             76073  12.88\n",
      "V30             76073  12.88\n",
      "V31             76073  12.88\n",
      "V32             76073  12.88\n",
      "V33             76073  12.88\n",
      "V12             76073  12.88\n",
      "V22             76073  12.88\n",
      "V21             76073  12.88\n",
      "D10             76022  12.87\n",
      "addr1           65706  11.13\n",
      "addr2           65706  11.13\n",
      "card2            8933   1.51\n",
      "card5            4259   0.72\n",
      "card4            1577   0.27\n",
      "card6            1571   0.27\n",
      "card3            1565   0.27\n",
      "V288             1269   0.21\n",
      "V301             1269   0.21\n",
      "V289             1269   0.21\n",
      "V281             1269   0.21\n",
      "V282             1269   0.21\n",
      "V283             1269   0.21\n",
      "V315             1269   0.21\n",
      "V313             1269   0.21\n",
      "D1               1269   0.21\n",
      "V314             1269   0.21\n",
      "V300             1269   0.21\n",
      "V296             1269   0.21\n",
      "V129              314   0.05\n",
      "V110              314   0.05\n",
      "V131              314   0.05\n",
      "V112              314   0.05\n",
      "V132              314   0.05\n",
      "V133              314   0.05\n",
      "V134              314   0.05\n",
      "V111              314   0.05\n",
      "V109              314   0.05\n",
      "V114              314   0.05\n",
      "V108              314   0.05\n",
      "V107              314   0.05\n",
      "V135              314   0.05\n",
      "V106              314   0.05\n",
      "V105              314   0.05\n",
      "V104              314   0.05\n",
      "V113              314   0.05\n",
      "V115              314   0.05\n",
      "V128              314   0.05\n",
      "V116              314   0.05\n",
      "V117              314   0.05\n",
      "V118              314   0.05\n",
      "V119              314   0.05\n",
      "V120              314   0.05\n",
      "V102              314   0.05\n",
      "V130              314   0.05\n",
      "V121              314   0.05\n",
      "V122              314   0.05\n",
      "V123              314   0.05\n",
      "V124              314   0.05\n",
      "V125              314   0.05\n",
      "V126              314   0.05\n",
      "V127              314   0.05\n",
      "V103              314   0.05\n",
      "V97               314   0.05\n",
      "V101              314   0.05\n",
      "V95               314   0.05\n",
      "V100              314   0.05\n",
      "V136              314   0.05\n",
      "V137              314   0.05\n",
      "V96               314   0.05\n",
      "V99               314   0.05\n",
      "V98               314   0.05\n",
      "V291               12   0.00\n",
      "V292               12   0.00\n",
      "V293               12   0.00\n",
      "V294               12   0.00\n",
      "V295               12   0.00\n",
      "V297               12   0.00\n",
      "V308               12   0.00\n",
      "V299               12   0.00\n",
      "V302               12   0.00\n",
      "V303               12   0.00\n",
      "V304               12   0.00\n",
      "V290               12   0.00\n",
      "V306               12   0.00\n",
      "V307               12   0.00\n",
      "V298               12   0.00\n",
      "V309               12   0.00\n",
      "V310               12   0.00\n",
      "V311               12   0.00\n",
      "V316               12   0.00\n",
      "V317               12   0.00\n",
      "V318               12   0.00\n",
      "V319               12   0.00\n",
      "V320               12   0.00\n",
      "V321               12   0.00\n",
      "V287               12   0.00\n",
      "V286               12   0.00\n",
      "V285               12   0.00\n",
      "V284               12   0.00\n",
      "V280               12   0.00\n",
      "V279               12   0.00\n",
      "V312               12   0.00\n"
     ]
    }
   ],
   "source": [
    "na_cols,missing_df=missing_values_table(train_df, True)\n",
    "missing_df.reset_index(inplace=True)"
   ]
  },
  {
   "cell_type": "markdown",
   "id": "146b9b61",
   "metadata": {
    "papermill": {
     "duration": 0.055777,
     "end_time": "2022-03-11T18:31:33.969685",
     "exception": false,
     "start_time": "2022-03-11T18:31:33.913908",
     "status": "completed"
    },
    "tags": []
   },
   "source": [
    "# Feature Engineering"
   ]
  },
  {
   "cell_type": "code",
   "execution_count": 12,
   "id": "eddfcfa0",
   "metadata": {
    "execution": {
     "iopub.execute_input": "2022-03-11T18:31:34.088119Z",
     "iopub.status.busy": "2022-03-11T18:31:34.087373Z",
     "iopub.status.idle": "2022-03-11T18:31:34.132865Z",
     "shell.execute_reply": "2022-03-11T18:31:34.132253Z",
     "shell.execute_reply.started": "2022-03-11T18:29:00.306738Z"
    },
    "papermill": {
     "duration": 0.105823,
     "end_time": "2022-03-11T18:31:34.133001",
     "exception": false,
     "start_time": "2022-03-11T18:31:34.027178",
     "status": "completed"
    },
    "tags": []
   },
   "outputs": [],
   "source": [
    "def feature_eng(dataframe,name=True):\n",
    "    \n",
    "    dataframe['hour'] = (dataframe['TransactionDT']/(3600))%24\n",
    "    \n",
    "    def hourFeature(hour):\n",
    "        if hour > 3 and hour < 12:\n",
    "            return \"highalert\"\n",
    "        if hour > 18 and hour <= 23:\n",
    "            return \"mediumalert\"\n",
    "        else:\n",
    "            return \"lowalert\"\n",
    "        \n",
    "    dataframe['alertFeature'] = dataframe['hour'].apply(hourFeature)\n",
    "    \n",
    "    dataframe['LogTransactionAmt'] = np.log(dataframe['TransactionAmt'])\n",
    "    \n",
    "    \n",
    "    \n",
    "    \n",
    "    dataframe['device_name'] = dataframe['DeviceInfo'].str.split('/', expand=True)[0]\n",
    "    dataframe['device_version'] = dataframe['DeviceInfo'].str.split('/', expand=True)[1]\n",
    "    if name:\n",
    "        dataframe['OS_id_30'] = dataframe['id_30'].str.split(' ', expand=True)[0]\n",
    "        dataframe['version_id_30'] = dataframe['id_30'].str.split(' ', expand=True)[1]\n",
    "\n",
    "        dataframe['browser_id_31'] = dataframe['id_31'].str.split(' ', expand=True)[0]\n",
    "        dataframe['version_id_31'] = dataframe['id_31'].str.split(' ', expand=True)[1]\n",
    "\n",
    "        dataframe['screen_width'] = dataframe['id_33'].str.split('x', expand=True)[0]\n",
    "        dataframe['screen_height'] = dataframe['id_33'].str.split('x', expand=True)[1]\n",
    "\n",
    "    dataframe.loc[dataframe['device_name'].str.contains('SM', na=False), 'device_name'] = 'Samsung'\n",
    "    dataframe.loc[dataframe['device_name'].str.contains('SAMSUNG', na=False), 'device_name'] = 'Samsung'\n",
    "    dataframe.loc[dataframe['device_name'].str.contains('GT-', na=False), 'device_name'] = 'Samsung'\n",
    "    dataframe.loc[dataframe['device_name'].str.contains('Moto G', na=False), 'device_name'] = 'Motorola'\n",
    "    dataframe.loc[dataframe['device_name'].str.contains('Moto', na=False), 'device_name'] = 'Motorola'\n",
    "    dataframe.loc[dataframe['device_name'].str.contains('moto', na=False), 'device_name'] = 'Motorola'\n",
    "    dataframe.loc[dataframe['device_name'].str.contains('LG-', na=False), 'device_name'] = 'LG'\n",
    "    dataframe.loc[dataframe['device_name'].str.contains('rv:', na=False), 'device_name'] = 'RV'\n",
    "    dataframe.loc[dataframe['device_name'].str.contains('HUAWEI', na=False), 'device_name'] = 'Huawei'\n",
    "    dataframe.loc[dataframe['device_name'].str.contains('ALE-', na=False), 'device_name'] = 'Huawei'\n",
    "    dataframe.loc[dataframe['device_name'].str.contains('-L', na=False), 'device_name'] = 'Huawei'\n",
    "    dataframe.loc[dataframe['device_name'].str.contains('Blade', na=False), 'device_name'] = 'ZTE'\n",
    "    dataframe.loc[dataframe['device_name'].str.contains('BLADE', na=False), 'device_name'] = 'ZTE'\n",
    "    dataframe.loc[dataframe['device_name'].str.contains('Linux', na=False), 'device_name'] = 'Linux'\n",
    "    dataframe.loc[dataframe['device_name'].str.contains('XT', na=False), 'device_name'] = 'Sony'\n",
    "    dataframe.loc[dataframe['device_name'].str.contains('HTC', na=False), 'device_name'] = 'HTC'\n",
    "    dataframe.loc[dataframe['device_name'].str.contains('ASUS', na=False), 'device_name'] = 'Asus'\n",
    "\n",
    "    dataframe.loc[dataframe.device_name.isin(dataframe.device_name.value_counts()[dataframe.device_name.value_counts() < 200].index), 'device_name'] = \"Others\"\n",
    "    dataframe['had_id'] = \"1\"\n",
    "    gc.collect()\n",
    "    \n",
    "    dataframe['c2_check']=dataframe[\"card2\"].apply(lambda x: 0 if np.isnan(x)  else 1)\n",
    "    dataframe['c3_check']=dataframe[\"card3\"].apply(lambda x: 0 if np.isnan(x)  else 1)\n",
    "    dataframe[\"new_domain\"]=dataframe['P_emaildomain'].apply(lambda x:str(x).partition(\".\")[0])\n",
    "    dataframe['t_dt_minute']=dataframe[\"TransactionDT\"]/60\n",
    "    dataframe['t_dt_hour']=dataframe[\"t_dt_minute\"]/60\n",
    "    dataframe['t_dt_day']=dataframe[\"t_dt_hour\"]/24\n",
    "    dataframe['t_dt_week']=dataframe[\"t_dt_day\"]/7\n",
    "\n",
    "    # ADD MONTH FEATURE\n",
    "    START_DATE = datetime.datetime.strptime('2017-11-30', '%Y-%m-%d')\n",
    "    dataframe['DT_M'] = dataframe['TransactionDT'].map(lambda x: (START_DATE + datetime.timedelta(seconds = x)))\n",
    "    dataframe['DT_M'] = (dataframe['DT_M'].dt.year-2017)*12 + dataframe['DT_M'].dt.month \n",
    "\n",
    "    dataframe['card1check']=dataframe[\"card1\"].apply(lambda x: 0 if np.isnan(x)  else 1)\n",
    "    dataframe['card2check']=dataframe[\"card2\"].apply(lambda x: 0 if np.isnan(x)  else 1)\n",
    "\n",
    "    dataframe['D2_check']=dataframe[\"D2\"].apply(lambda x: 0 if np.isnan(x)  else 1)\n",
    "    dataframe['D3_check']=dataframe[\"D3\"].apply(lambda x: 0 if np.isnan(x)  else 1)\n",
    "    dataframe['D4_check']=dataframe[\"D4\"].apply(lambda x: 0 if np.isnan(x)  else 1)\n",
    "    dataframe['D5_check']=dataframe[\"D5\"].apply(lambda x: 0 if np.isnan(x)  else 1)\n",
    "    dataframe['D6_check']=dataframe[\"D6\"].apply(lambda x: 0 if np.isnan(x)  else 1)\n",
    "    dataframe['D7_check']=dataframe[\"D7\"].apply(lambda x: 0 if np.isnan(x)  else 1)\n",
    "    dataframe['d8_check']=dataframe[\"D8\"].apply(lambda x: 0 if np.isnan(x)  else 1)\n",
    "    dataframe['D9_check']=dataframe[\"D9\"].apply(lambda x: 0 if np.isnan(x)  else 1)\n",
    "    dataframe['D10_check']=dataframe[\"D10\"].apply(lambda x: 0 if np.isnan(x)  else 1)\n",
    "    dataframe['D11_check']=dataframe[\"D11\"].apply(lambda x: 0 if np.isnan(x)  else 1)\n",
    "    dataframe['D12_check']=dataframe[\"D12\"].apply(lambda x: 0 if np.isnan(x)  else 1)\n",
    "    dataframe['D13_check']=dataframe[\"D13\"].apply(lambda x: 0 if np.isnan(x)  else 1)\n",
    "    dataframe['D14_check']=dataframe[\"D14\"].apply(lambda x: 0 if np.isnan(x)  else 1)\n",
    "    dataframe['D15_check']=dataframe[\"D15\"].apply(lambda x: 0 if np.isnan(x)  else 1)\n",
    "\n",
    "    dataframe[\"new_domain1\"]=dataframe['P_emaildomain'].apply(lambda x:str(x).partition(\".\")[-1])\n",
    "    dataframe[\"new_domain2\"]=dataframe['R_emaildomain'].apply(lambda x:str(x).partition(\".\")[-1])\n",
    "    \n",
    "    dataframe[\"addr1_addr2\"] = dataframe[\"addr1\"] + dataframe[\"addr2\"]\n",
    "    dataframe[\"card1_card2\"] = dataframe[\"card1\"] + dataframe[\"card2\"]\n",
    "    \n",
    "    dataframe['TransactionAmt_to_mean_card1'] = dataframe['TransactionAmt'] / dataframe.groupby(['card1'])['TransactionAmt'].transform('mean')\n",
    "    dataframe['TransactionAmt_to_mean_card4'] = dataframe['TransactionAmt'] / dataframe.groupby(['card4'])['TransactionAmt'].transform('mean')\n",
    "    dataframe['TransactionAmt_to_std_card1'] = dataframe['TransactionAmt'] / dataframe.groupby(['card1'])['TransactionAmt'].transform('std')\n",
    "    dataframe['TransactionAmt_to_std_card4'] = dataframe['TransactionAmt'] / dataframe.groupby(['card4'])['TransactionAmt'].transform('std')\n",
    "\n",
    "    dataframe['id_02_to_mean_card1'] = dataframe['id_02'] / dataframe.groupby(['card1'])['id_02'].transform('mean')\n",
    "    dataframe['id_02_to_mean_card4'] = dataframe['id_02'] / dataframe.groupby(['card4'])['id_02'].transform('mean')\n",
    "    dataframe['id_02_to_std_card1'] = dataframe['id_02'] / dataframe.groupby(['card1'])['id_02'].transform('std')\n",
    "    dataframe['id_02_to_std_card4'] = dataframe['id_02'] / dataframe.groupby(['card4'])['id_02'].transform('std')\n",
    "\n",
    "    dataframe['D15_to_mean_card1'] = dataframe['D15'] / dataframe.groupby(['card1'])['D15'].transform('mean')\n",
    "    dataframe['D15_to_mean_card4'] = dataframe['D15'] / dataframe.groupby(['card4'])['D15'].transform('mean')\n",
    "    dataframe['D15_to_std_card1'] = dataframe['D15'] / dataframe.groupby(['card1'])['D15'].transform('std')\n",
    "    dataframe['D15_to_std_card4'] = dataframe['D15'] / dataframe.groupby(['card4'])['D15'].transform('std')\n",
    "\n",
    "    dataframe['D15_to_mean_addr1'] = dataframe['D15'] / dataframe.groupby(['addr1'])['D15'].transform('mean')\n",
    "    dataframe['D15_to_std_addr1'] = dataframe['D15'] / dataframe.groupby(['addr1'])['D15'].transform('std')\n",
    "    \n",
    "    return dataframe"
   ]
  },
  {
   "cell_type": "code",
   "execution_count": 13,
   "id": "99e57246",
   "metadata": {
    "execution": {
     "iopub.execute_input": "2022-03-11T18:31:34.250412Z",
     "iopub.status.busy": "2022-03-11T18:31:34.249815Z",
     "iopub.status.idle": "2022-03-11T18:32:19.524194Z",
     "shell.execute_reply": "2022-03-11T18:32:19.523490Z",
     "shell.execute_reply.started": "2022-03-11T18:29:00.308425Z"
    },
    "papermill": {
     "duration": 45.33482,
     "end_time": "2022-03-11T18:32:19.524372",
     "exception": false,
     "start_time": "2022-03-11T18:31:34.189552",
     "status": "completed"
    },
    "tags": []
   },
   "outputs": [],
   "source": [
    "train_df = feature_eng(train_df)"
   ]
  },
  {
   "cell_type": "code",
   "execution_count": 14,
   "id": "3328cf24",
   "metadata": {
    "execution": {
     "iopub.execute_input": "2022-03-11T18:32:19.645690Z",
     "iopub.status.busy": "2022-03-11T18:32:19.645043Z",
     "iopub.status.idle": "2022-03-11T18:32:58.855021Z",
     "shell.execute_reply": "2022-03-11T18:32:58.854324Z",
     "shell.execute_reply.started": "2022-03-11T18:29:00.310306Z"
    },
    "papermill": {
     "duration": 39.272256,
     "end_time": "2022-03-11T18:32:58.855189",
     "exception": false,
     "start_time": "2022-03-11T18:32:19.582933",
     "status": "completed"
    },
    "tags": []
   },
   "outputs": [],
   "source": [
    "test_df = feature_eng(test_df)"
   ]
  },
  {
   "cell_type": "markdown",
   "id": "033db1d6",
   "metadata": {
    "papermill": {
     "duration": 0.056588,
     "end_time": "2022-03-11T18:32:58.969253",
     "exception": false,
     "start_time": "2022-03-11T18:32:58.912665",
     "status": "completed"
    },
    "tags": []
   },
   "source": [
    "# Drop Useless Features"
   ]
  },
  {
   "cell_type": "code",
   "execution_count": 15,
   "id": "121f3a97",
   "metadata": {
    "execution": {
     "iopub.execute_input": "2022-03-11T18:32:59.089858Z",
     "iopub.status.busy": "2022-03-11T18:32:59.089205Z",
     "iopub.status.idle": "2022-03-11T18:32:59.092098Z",
     "shell.execute_reply": "2022-03-11T18:32:59.092691Z",
     "shell.execute_reply.started": "2022-03-11T18:29:00.312038Z"
    },
    "papermill": {
     "duration": 0.063823,
     "end_time": "2022-03-11T18:32:59.092878",
     "exception": false,
     "start_time": "2022-03-11T18:32:59.029055",
     "status": "completed"
    },
    "tags": []
   },
   "outputs": [],
   "source": [
    "# useless = ['V22','V27','V28','V31', 'V34', 'V100', 'V39', 'V125', 'V122', 'V50', 'V119', 'V118', 'V117', 'V116', 'V114', 'V113', 'V57',\n",
    "#            'V58', 'V110', 'V65', 'V107', 'V71', 'V21', 'V18', 'V16', 'V89', 'V88', 'V321', 'V93']"
   ]
  },
  {
   "cell_type": "code",
   "execution_count": 16,
   "id": "4f496570",
   "metadata": {
    "execution": {
     "iopub.execute_input": "2022-03-11T18:32:59.227059Z",
     "iopub.status.busy": "2022-03-11T18:32:59.226359Z",
     "iopub.status.idle": "2022-03-11T18:32:59.233774Z",
     "shell.execute_reply": "2022-03-11T18:32:59.234389Z",
     "shell.execute_reply.started": "2022-03-11T18:29:00.313796Z"
    },
    "papermill": {
     "duration": 0.071373,
     "end_time": "2022-03-11T18:32:59.234619",
     "exception": false,
     "start_time": "2022-03-11T18:32:59.163246",
     "status": "completed"
    },
    "tags": []
   },
   "outputs": [],
   "source": [
    "# reduce = [col for col in train_df.columns if col not in useless] "
   ]
  },
  {
   "cell_type": "code",
   "execution_count": 17,
   "id": "e9a5ebe0",
   "metadata": {
    "execution": {
     "iopub.execute_input": "2022-03-11T18:32:59.361781Z",
     "iopub.status.busy": "2022-03-11T18:32:59.361116Z",
     "iopub.status.idle": "2022-03-11T18:32:59.364822Z",
     "shell.execute_reply": "2022-03-11T18:32:59.365422Z",
     "shell.execute_reply.started": "2022-03-11T18:29:00.315774Z"
    },
    "papermill": {
     "duration": 0.07053,
     "end_time": "2022-03-11T18:32:59.365586",
     "exception": false,
     "start_time": "2022-03-11T18:32:59.295056",
     "status": "completed"
    },
    "tags": []
   },
   "outputs": [],
   "source": [
    "# reduce_test = [col for col in train_df.columns if col not in useless and col not in [\"isFraud\"]] "
   ]
  },
  {
   "cell_type": "code",
   "execution_count": 18,
   "id": "48166bf9",
   "metadata": {
    "execution": {
     "iopub.execute_input": "2022-03-11T18:32:59.495078Z",
     "iopub.status.busy": "2022-03-11T18:32:59.494409Z",
     "iopub.status.idle": "2022-03-11T18:32:59.497465Z",
     "shell.execute_reply": "2022-03-11T18:32:59.498090Z",
     "shell.execute_reply.started": "2022-03-11T18:29:00.317143Z"
    },
    "papermill": {
     "duration": 0.069079,
     "end_time": "2022-03-11T18:32:59.498278",
     "exception": false,
     "start_time": "2022-03-11T18:32:59.429199",
     "status": "completed"
    },
    "tags": []
   },
   "outputs": [],
   "source": [
    "# train_df = train_df[reduce]"
   ]
  },
  {
   "cell_type": "code",
   "execution_count": 19,
   "id": "e36aeb9b",
   "metadata": {
    "execution": {
     "iopub.execute_input": "2022-03-11T18:32:59.618605Z",
     "iopub.status.busy": "2022-03-11T18:32:59.617495Z",
     "iopub.status.idle": "2022-03-11T18:32:59.619653Z",
     "shell.execute_reply": "2022-03-11T18:32:59.620210Z",
     "shell.execute_reply.started": "2022-03-11T18:29:00.318865Z"
    },
    "papermill": {
     "duration": 0.064275,
     "end_time": "2022-03-11T18:32:59.620383",
     "exception": false,
     "start_time": "2022-03-11T18:32:59.556108",
     "status": "completed"
    },
    "tags": []
   },
   "outputs": [],
   "source": [
    "# test_df = test_df[reduce_test]"
   ]
  },
  {
   "cell_type": "markdown",
   "id": "a86a376a",
   "metadata": {
    "papermill": {
     "duration": 0.056976,
     "end_time": "2022-03-11T18:32:59.735125",
     "exception": false,
     "start_time": "2022-03-11T18:32:59.678149",
     "status": "completed"
    },
    "tags": []
   },
   "source": [
    "# I Converted Infinity Values to Nan"
   ]
  },
  {
   "cell_type": "code",
   "execution_count": 20,
   "id": "77cfbef5",
   "metadata": {
    "execution": {
     "iopub.execute_input": "2022-03-11T18:32:59.853565Z",
     "iopub.status.busy": "2022-03-11T18:32:59.852554Z",
     "iopub.status.idle": "2022-03-11T18:33:15.534531Z",
     "shell.execute_reply": "2022-03-11T18:33:15.533860Z",
     "shell.execute_reply.started": "2022-03-11T18:29:00.321195Z"
    },
    "papermill": {
     "duration": 15.742373,
     "end_time": "2022-03-11T18:33:15.534680",
     "exception": false,
     "start_time": "2022-03-11T18:32:59.792307",
     "status": "completed"
    },
    "tags": []
   },
   "outputs": [],
   "source": [
    "train_df.replace([np.inf, -np.inf], np.nan, inplace=True)\n",
    "test_df.replace([np.inf, -np.inf], np.nan, inplace=True)"
   ]
  },
  {
   "cell_type": "markdown",
   "id": "a1396576",
   "metadata": {
    "papermill": {
     "duration": 0.055896,
     "end_time": "2022-03-11T18:33:15.647335",
     "exception": false,
     "start_time": "2022-03-11T18:33:15.591439",
     "status": "completed"
    },
    "tags": []
   },
   "source": [
    "# Drop variables that are missing more than 60% "
   ]
  },
  {
   "cell_type": "code",
   "execution_count": 21,
   "id": "5b96561f",
   "metadata": {
    "execution": {
     "iopub.execute_input": "2022-03-11T18:33:15.768030Z",
     "iopub.status.busy": "2022-03-11T18:33:15.767169Z",
     "iopub.status.idle": "2022-03-11T18:33:15.769111Z",
     "shell.execute_reply": "2022-03-11T18:33:15.769542Z",
     "shell.execute_reply.started": "2022-03-11T18:29:00.322625Z"
    },
    "papermill": {
     "duration": 0.064546,
     "end_time": "2022-03-11T18:33:15.769700",
     "exception": false,
     "start_time": "2022-03-11T18:33:15.705154",
     "status": "completed"
    },
    "tags": []
   },
   "outputs": [],
   "source": [
    "drop_variables=missing_df[missing_df[\"ratio\"]>60]['index']"
   ]
  },
  {
   "cell_type": "code",
   "execution_count": 22,
   "id": "8ba813cb",
   "metadata": {
    "execution": {
     "iopub.execute_input": "2022-03-11T18:33:15.887877Z",
     "iopub.status.busy": "2022-03-11T18:33:15.887169Z",
     "iopub.status.idle": "2022-03-11T18:33:15.889754Z",
     "shell.execute_reply": "2022-03-11T18:33:15.889287Z",
     "shell.execute_reply.started": "2022-03-11T18:29:00.324883Z"
    },
    "papermill": {
     "duration": 0.063475,
     "end_time": "2022-03-11T18:33:15.889922",
     "exception": false,
     "start_time": "2022-03-11T18:33:15.826447",
     "status": "completed"
    },
    "tags": []
   },
   "outputs": [],
   "source": [
    "# train_df.drop(drop_variables,inplace=True,axis=1)\n"
   ]
  },
  {
   "cell_type": "code",
   "execution_count": 23,
   "id": "d7f0269b",
   "metadata": {
    "execution": {
     "iopub.execute_input": "2022-03-11T18:33:16.006615Z",
     "iopub.status.busy": "2022-03-11T18:33:16.005975Z",
     "iopub.status.idle": "2022-03-11T18:33:16.009306Z",
     "shell.execute_reply": "2022-03-11T18:33:16.009839Z",
     "shell.execute_reply.started": "2022-03-11T18:29:00.326494Z"
    },
    "papermill": {
     "duration": 0.063519,
     "end_time": "2022-03-11T18:33:16.010008",
     "exception": false,
     "start_time": "2022-03-11T18:33:15.946489",
     "status": "completed"
    },
    "tags": []
   },
   "outputs": [],
   "source": [
    "# test_df.drop(drop_variables,inplace=True,axis=1)"
   ]
  },
  {
   "cell_type": "markdown",
   "id": "65d23e2a",
   "metadata": {
    "papermill": {
     "duration": 0.056543,
     "end_time": "2022-03-11T18:33:16.124575",
     "exception": false,
     "start_time": "2022-03-11T18:33:16.068032",
     "status": "completed"
    },
    "tags": []
   },
   "source": [
    "# Filling Missing Values\n"
   ]
  },
  {
   "cell_type": "code",
   "execution_count": 24,
   "id": "48493ab7",
   "metadata": {
    "execution": {
     "iopub.execute_input": "2022-03-11T18:33:16.241977Z",
     "iopub.status.busy": "2022-03-11T18:33:16.241329Z",
     "iopub.status.idle": "2022-03-11T18:33:23.730344Z",
     "shell.execute_reply": "2022-03-11T18:33:23.729838Z",
     "shell.execute_reply.started": "2022-03-11T18:29:00.328814Z"
    },
    "papermill": {
     "duration": 7.548528,
     "end_time": "2022-03-11T18:33:23.730492",
     "exception": false,
     "start_time": "2022-03-11T18:33:16.181964",
     "status": "completed"
    },
    "tags": []
   },
   "outputs": [],
   "source": [
    "train_df = train_df.fillna(-999)\n",
    "test_df = test_df.fillna(-999)"
   ]
  },
  {
   "cell_type": "code",
   "execution_count": 25,
   "id": "ccfab00c",
   "metadata": {
    "execution": {
     "iopub.execute_input": "2022-03-11T18:33:23.849152Z",
     "iopub.status.busy": "2022-03-11T18:33:23.848414Z",
     "iopub.status.idle": "2022-03-11T18:33:26.992409Z",
     "shell.execute_reply": "2022-03-11T18:33:26.992935Z",
     "shell.execute_reply.started": "2022-03-11T18:29:00.330764Z"
    },
    "papermill": {
     "duration": 3.206145,
     "end_time": "2022-03-11T18:33:26.993105",
     "exception": false,
     "start_time": "2022-03-11T18:33:23.786960",
     "status": "completed"
    },
    "tags": []
   },
   "outputs": [
    {
     "data": {
      "text/plain": [
       "TransactionID                   0\n",
       "isFraud                         0\n",
       "TransactionDT                   0\n",
       "TransactionAmt                  0\n",
       "ProductCD                       0\n",
       "card1                           0\n",
       "card2                           0\n",
       "card3                           0\n",
       "card4                           0\n",
       "card5                           0\n",
       "card6                           0\n",
       "addr1                           0\n",
       "addr2                           0\n",
       "dist1                           0\n",
       "dist2                           0\n",
       "P_emaildomain                   0\n",
       "R_emaildomain                   0\n",
       "C1                              0\n",
       "C2                              0\n",
       "C3                              0\n",
       "C4                              0\n",
       "C5                              0\n",
       "C6                              0\n",
       "C7                              0\n",
       "C8                              0\n",
       "C9                              0\n",
       "C10                             0\n",
       "C11                             0\n",
       "C12                             0\n",
       "C13                             0\n",
       "C14                             0\n",
       "D1                              0\n",
       "D2                              0\n",
       "D3                              0\n",
       "D4                              0\n",
       "D5                              0\n",
       "D6                              0\n",
       "D7                              0\n",
       "D8                              0\n",
       "D9                              0\n",
       "D10                             0\n",
       "D11                             0\n",
       "D12                             0\n",
       "D13                             0\n",
       "D14                             0\n",
       "D15                             0\n",
       "M2                              0\n",
       "M3                              0\n",
       "M4                              0\n",
       "M5                              0\n",
       "M6                              0\n",
       "M7                              0\n",
       "M8                              0\n",
       "M9                              0\n",
       "V2                              0\n",
       "V3                              0\n",
       "V4                              0\n",
       "V5                              0\n",
       "V6                              0\n",
       "V7                              0\n",
       "V8                              0\n",
       "V9                              0\n",
       "V10                             0\n",
       "V11                             0\n",
       "V12                             0\n",
       "V13                             0\n",
       "V15                             0\n",
       "V16                             0\n",
       "V17                             0\n",
       "V18                             0\n",
       "V19                             0\n",
       "V20                             0\n",
       "V21                             0\n",
       "V22                             0\n",
       "V23                             0\n",
       "V24                             0\n",
       "V25                             0\n",
       "V26                             0\n",
       "V27                             0\n",
       "V28                             0\n",
       "V29                             0\n",
       "V30                             0\n",
       "V31                             0\n",
       "V32                             0\n",
       "V33                             0\n",
       "V34                             0\n",
       "V35                             0\n",
       "V36                             0\n",
       "V37                             0\n",
       "V38                             0\n",
       "V39                             0\n",
       "V40                             0\n",
       "V42                             0\n",
       "V43                             0\n",
       "V44                             0\n",
       "V45                             0\n",
       "V46                             0\n",
       "V47                             0\n",
       "V48                             0\n",
       "V49                             0\n",
       "V50                             0\n",
       "V51                             0\n",
       "V52                             0\n",
       "V53                             0\n",
       "V54                             0\n",
       "V55                             0\n",
       "V56                             0\n",
       "V57                             0\n",
       "V58                             0\n",
       "V59                             0\n",
       "V60                             0\n",
       "V61                             0\n",
       "V62                             0\n",
       "V63                             0\n",
       "V64                             0\n",
       "V65                             0\n",
       "V66                             0\n",
       "V67                             0\n",
       "V69                             0\n",
       "V70                             0\n",
       "V71                             0\n",
       "V72                             0\n",
       "V73                             0\n",
       "V74                             0\n",
       "V75                             0\n",
       "V76                             0\n",
       "V77                             0\n",
       "V78                             0\n",
       "V79                             0\n",
       "V80                             0\n",
       "V81                             0\n",
       "V82                             0\n",
       "V83                             0\n",
       "V84                             0\n",
       "V85                             0\n",
       "V86                             0\n",
       "V87                             0\n",
       "V88                             0\n",
       "V89                             0\n",
       "V90                             0\n",
       "V91                             0\n",
       "V92                             0\n",
       "V93                             0\n",
       "V94                             0\n",
       "V95                             0\n",
       "V96                             0\n",
       "V97                             0\n",
       "V98                             0\n",
       "V99                             0\n",
       "V100                            0\n",
       "V101                            0\n",
       "V102                            0\n",
       "V103                            0\n",
       "V104                            0\n",
       "V105                            0\n",
       "V106                            0\n",
       "V107                            0\n",
       "V108                            0\n",
       "V109                            0\n",
       "V110                            0\n",
       "V111                            0\n",
       "V112                            0\n",
       "V113                            0\n",
       "V114                            0\n",
       "V115                            0\n",
       "V116                            0\n",
       "V117                            0\n",
       "V118                            0\n",
       "V119                            0\n",
       "V120                            0\n",
       "V121                            0\n",
       "V122                            0\n",
       "V123                            0\n",
       "V124                            0\n",
       "V125                            0\n",
       "V126                            0\n",
       "V127                            0\n",
       "V128                            0\n",
       "V129                            0\n",
       "V130                            0\n",
       "V131                            0\n",
       "V132                            0\n",
       "V133                            0\n",
       "V134                            0\n",
       "V135                            0\n",
       "V136                            0\n",
       "V137                            0\n",
       "V138                            0\n",
       "V139                            0\n",
       "V140                            0\n",
       "V141                            0\n",
       "V142                            0\n",
       "V143                            0\n",
       "V144                            0\n",
       "V145                            0\n",
       "V146                            0\n",
       "V147                            0\n",
       "V148                            0\n",
       "V149                            0\n",
       "V150                            0\n",
       "V151                            0\n",
       "V152                            0\n",
       "V153                            0\n",
       "V154                            0\n",
       "V155                            0\n",
       "V156                            0\n",
       "V157                            0\n",
       "V158                            0\n",
       "V159                            0\n",
       "V160                            0\n",
       "V161                            0\n",
       "V162                            0\n",
       "V163                            0\n",
       "V164                            0\n",
       "V165                            0\n",
       "V166                            0\n",
       "V167                            0\n",
       "V168                            0\n",
       "V169                            0\n",
       "V170                            0\n",
       "V171                            0\n",
       "V172                            0\n",
       "V173                            0\n",
       "V174                            0\n",
       "V175                            0\n",
       "V176                            0\n",
       "V177                            0\n",
       "V178                            0\n",
       "V179                            0\n",
       "V180                            0\n",
       "V181                            0\n",
       "V182                            0\n",
       "V183                            0\n",
       "V184                            0\n",
       "V185                            0\n",
       "V186                            0\n",
       "V187                            0\n",
       "V188                            0\n",
       "V189                            0\n",
       "V190                            0\n",
       "V191                            0\n",
       "V192                            0\n",
       "V193                            0\n",
       "V194                            0\n",
       "V195                            0\n",
       "V196                            0\n",
       "V197                            0\n",
       "V198                            0\n",
       "V199                            0\n",
       "V200                            0\n",
       "V201                            0\n",
       "V202                            0\n",
       "V203                            0\n",
       "V204                            0\n",
       "V205                            0\n",
       "V206                            0\n",
       "V207                            0\n",
       "V208                            0\n",
       "V209                            0\n",
       "V210                            0\n",
       "V211                            0\n",
       "V212                            0\n",
       "V213                            0\n",
       "V214                            0\n",
       "V215                            0\n",
       "V216                            0\n",
       "V217                            0\n",
       "V218                            0\n",
       "V219                            0\n",
       "V220                            0\n",
       "V221                            0\n",
       "V222                            0\n",
       "V223                            0\n",
       "V224                            0\n",
       "V225                            0\n",
       "V226                            0\n",
       "V227                            0\n",
       "V228                            0\n",
       "V229                            0\n",
       "V230                            0\n",
       "V231                            0\n",
       "V232                            0\n",
       "V233                            0\n",
       "V234                            0\n",
       "V235                            0\n",
       "V236                            0\n",
       "V237                            0\n",
       "V238                            0\n",
       "V239                            0\n",
       "V240                            0\n",
       "V241                            0\n",
       "V242                            0\n",
       "V243                            0\n",
       "V244                            0\n",
       "V245                            0\n",
       "V246                            0\n",
       "V247                            0\n",
       "V248                            0\n",
       "V249                            0\n",
       "V250                            0\n",
       "V251                            0\n",
       "V252                            0\n",
       "V253                            0\n",
       "V254                            0\n",
       "V255                            0\n",
       "V256                            0\n",
       "V257                            0\n",
       "V258                            0\n",
       "V259                            0\n",
       "V260                            0\n",
       "V261                            0\n",
       "V262                            0\n",
       "V263                            0\n",
       "V264                            0\n",
       "V265                            0\n",
       "V266                            0\n",
       "V267                            0\n",
       "V268                            0\n",
       "V269                            0\n",
       "V270                            0\n",
       "V271                            0\n",
       "V272                            0\n",
       "V273                            0\n",
       "V274                            0\n",
       "V275                            0\n",
       "V276                            0\n",
       "V277                            0\n",
       "V278                            0\n",
       "V279                            0\n",
       "V280                            0\n",
       "V281                            0\n",
       "V282                            0\n",
       "V283                            0\n",
       "V284                            0\n",
       "V285                            0\n",
       "V286                            0\n",
       "V287                            0\n",
       "V288                            0\n",
       "V289                            0\n",
       "V290                            0\n",
       "V291                            0\n",
       "V292                            0\n",
       "V293                            0\n",
       "V294                            0\n",
       "V295                            0\n",
       "V296                            0\n",
       "V297                            0\n",
       "V298                            0\n",
       "V299                            0\n",
       "V300                            0\n",
       "V301                            0\n",
       "V302                            0\n",
       "V303                            0\n",
       "V304                            0\n",
       "V306                            0\n",
       "V307                            0\n",
       "V308                            0\n",
       "V309                            0\n",
       "V310                            0\n",
       "V311                            0\n",
       "V312                            0\n",
       "V313                            0\n",
       "V314                            0\n",
       "V315                            0\n",
       "V316                            0\n",
       "V317                            0\n",
       "V318                            0\n",
       "V319                            0\n",
       "V320                            0\n",
       "V321                            0\n",
       "V322                            0\n",
       "V323                            0\n",
       "V324                            0\n",
       "V325                            0\n",
       "V326                            0\n",
       "V327                            0\n",
       "V328                            0\n",
       "V329                            0\n",
       "V330                            0\n",
       "V331                            0\n",
       "V332                            0\n",
       "V333                            0\n",
       "V334                            0\n",
       "V335                            0\n",
       "V336                            0\n",
       "V337                            0\n",
       "V338                            0\n",
       "V339                            0\n",
       "id_01                           0\n",
       "id_02                           0\n",
       "id_03                           0\n",
       "id_04                           0\n",
       "id_05                           0\n",
       "id_06                           0\n",
       "id_07                           0\n",
       "id_08                           0\n",
       "id_09                           0\n",
       "id_10                           0\n",
       "id_11                           0\n",
       "id_12                           0\n",
       "id_13                           0\n",
       "id_14                           0\n",
       "id_15                           0\n",
       "id_16                           0\n",
       "id_17                           0\n",
       "id_18                           0\n",
       "id_19                           0\n",
       "id_20                           0\n",
       "id_21                           0\n",
       "id_22                           0\n",
       "id_23                           0\n",
       "id_24                           0\n",
       "id_25                           0\n",
       "id_26                           0\n",
       "id_28                           0\n",
       "id_29                           0\n",
       "id_30                           0\n",
       "id_31                           0\n",
       "id_32                           0\n",
       "id_33                           0\n",
       "id_34                           0\n",
       "id_35                           0\n",
       "id_36                           0\n",
       "id_37                           0\n",
       "id_38                           0\n",
       "DeviceType                      0\n",
       "DeviceInfo                      0\n",
       "hour                            0\n",
       "alertFeature                    0\n",
       "LogTransactionAmt               0\n",
       "device_name                     0\n",
       "device_version                  0\n",
       "OS_id_30                        0\n",
       "version_id_30                   0\n",
       "browser_id_31                   0\n",
       "version_id_31                   0\n",
       "screen_width                    0\n",
       "screen_height                   0\n",
       "had_id                          0\n",
       "c2_check                        0\n",
       "c3_check                        0\n",
       "new_domain                      0\n",
       "t_dt_minute                     0\n",
       "t_dt_hour                       0\n",
       "t_dt_day                        0\n",
       "t_dt_week                       0\n",
       "DT_M                            0\n",
       "card1check                      0\n",
       "card2check                      0\n",
       "D2_check                        0\n",
       "D3_check                        0\n",
       "D4_check                        0\n",
       "D5_check                        0\n",
       "D6_check                        0\n",
       "D7_check                        0\n",
       "d8_check                        0\n",
       "D9_check                        0\n",
       "D10_check                       0\n",
       "D11_check                       0\n",
       "D12_check                       0\n",
       "D13_check                       0\n",
       "D14_check                       0\n",
       "D15_check                       0\n",
       "new_domain1                     0\n",
       "new_domain2                     0\n",
       "addr1_addr2                     0\n",
       "card1_card2                     0\n",
       "TransactionAmt_to_mean_card1    0\n",
       "TransactionAmt_to_mean_card4    0\n",
       "TransactionAmt_to_std_card1     0\n",
       "TransactionAmt_to_std_card4     0\n",
       "id_02_to_mean_card1             0\n",
       "id_02_to_mean_card4             0\n",
       "id_02_to_std_card1              0\n",
       "id_02_to_std_card4              0\n",
       "D15_to_mean_card1               0\n",
       "D15_to_mean_card4               0\n",
       "D15_to_std_card1                0\n",
       "D15_to_std_card4                0\n",
       "D15_to_mean_addr1               0\n",
       "D15_to_std_addr1                0\n",
       "dtype: int64"
      ]
     },
     "execution_count": 25,
     "metadata": {},
     "output_type": "execute_result"
    }
   ],
   "source": [
    "train_df.isnull().sum()"
   ]
  },
  {
   "cell_type": "markdown",
   "id": "f3c430cd",
   "metadata": {
    "papermill": {
     "duration": 0.059268,
     "end_time": "2022-03-11T18:33:27.111477",
     "exception": false,
     "start_time": "2022-03-11T18:33:27.052209",
     "status": "completed"
    },
    "tags": []
   },
   "source": [
    "# Label Encoder"
   ]
  },
  {
   "cell_type": "code",
   "execution_count": 26,
   "id": "b69561e3",
   "metadata": {
    "execution": {
     "iopub.execute_input": "2022-03-11T18:33:27.234016Z",
     "iopub.status.busy": "2022-03-11T18:33:27.233390Z",
     "iopub.status.idle": "2022-03-11T18:34:18.129607Z",
     "shell.execute_reply": "2022-03-11T18:34:18.130147Z",
     "shell.execute_reply.started": "2022-03-11T18:29:00.332226Z"
    },
    "papermill": {
     "duration": 50.960204,
     "end_time": "2022-03-11T18:34:18.130358",
     "exception": false,
     "start_time": "2022-03-11T18:33:27.170154",
     "status": "completed"
    },
    "tags": []
   },
   "outputs": [],
   "source": [
    "for f in train_df.columns:\n",
    "    if train_df[f].dtype=='object': \n",
    "        lbl = LabelEncoder()\n",
    "        lbl.fit(list(train_df[f].values))\n",
    "        train_df[f] = lbl.transform(list(train_df[f].values)) "
   ]
  },
  {
   "cell_type": "code",
   "execution_count": 27,
   "id": "fbe3ee3b",
   "metadata": {
    "execution": {
     "iopub.execute_input": "2022-03-11T18:34:18.329623Z",
     "iopub.status.busy": "2022-03-11T18:34:18.249422Z",
     "iopub.status.idle": "2022-03-11T18:35:02.636783Z",
     "shell.execute_reply": "2022-03-11T18:35:02.637505Z",
     "shell.execute_reply.started": "2022-03-11T18:29:00.333840Z"
    },
    "papermill": {
     "duration": 44.448683,
     "end_time": "2022-03-11T18:35:02.637888",
     "exception": false,
     "start_time": "2022-03-11T18:34:18.189205",
     "status": "completed"
    },
    "tags": []
   },
   "outputs": [],
   "source": [
    "for f in test_df.columns:\n",
    "    if test_df[f].dtype=='object': \n",
    "        lbl = LabelEncoder()\n",
    "        lbl.fit(list(test_df[f].values))\n",
    "        test_df[f] = lbl.transform(list(test_df[f].values))"
   ]
  },
  {
   "cell_type": "markdown",
   "id": "0dacf071",
   "metadata": {
    "execution": {
     "iopub.execute_input": "2022-02-24T23:59:09.175939Z",
     "iopub.status.busy": "2022-02-24T23:59:09.17545Z",
     "iopub.status.idle": "2022-02-24T23:59:09.20369Z",
     "shell.execute_reply": "2022-02-24T23:59:09.202625Z",
     "shell.execute_reply.started": "2022-02-24T23:59:09.175803Z"
    },
    "papermill": {
     "duration": 0.058227,
     "end_time": "2022-03-11T18:35:02.757253",
     "exception": false,
     "start_time": "2022-03-11T18:35:02.699026",
     "status": "completed"
    },
    "tags": []
   },
   "source": [
    "# Reduce Memory Again"
   ]
  },
  {
   "cell_type": "code",
   "execution_count": 28,
   "id": "ca8bd7c3",
   "metadata": {
    "execution": {
     "iopub.execute_input": "2022-03-11T18:35:02.877501Z",
     "iopub.status.busy": "2022-03-11T18:35:02.876451Z",
     "iopub.status.idle": "2022-03-11T18:37:34.362552Z",
     "shell.execute_reply": "2022-03-11T18:37:34.363119Z",
     "shell.execute_reply.started": "2022-03-11T18:29:00.335270Z"
    },
    "papermill": {
     "duration": 151.548071,
     "end_time": "2022-03-11T18:37:34.363337",
     "exception": false,
     "start_time": "2022-03-11T18:35:02.815266",
     "status": "completed"
    },
    "tags": []
   },
   "outputs": [
    {
     "name": "stdout",
     "output_type": "stream",
     "text": [
      "Mem. usage decreased to 568.81 Mb (73.8% reduction)\n"
     ]
    }
   ],
   "source": [
    "train_df = reduce_mem_usage(train_df)"
   ]
  },
  {
   "cell_type": "code",
   "execution_count": 29,
   "id": "2cdf1155",
   "metadata": {
    "execution": {
     "iopub.execute_input": "2022-03-11T18:37:34.509443Z",
     "iopub.status.busy": "2022-03-11T18:37:34.504938Z",
     "iopub.status.idle": "2022-03-11T18:39:33.398485Z",
     "shell.execute_reply": "2022-03-11T18:39:33.399247Z",
     "shell.execute_reply.started": "2022-03-11T18:29:00.336944Z"
    },
    "papermill": {
     "duration": 118.977047,
     "end_time": "2022-03-11T18:39:33.399492",
     "exception": false,
     "start_time": "2022-03-11T18:37:34.422445",
     "status": "completed"
    },
    "tags": []
   },
   "outputs": [
    {
     "name": "stdout",
     "output_type": "stream",
     "text": [
      "Mem. usage decreased to 495.30 Mb (73.4% reduction)\n"
     ]
    }
   ],
   "source": [
    "test_df = reduce_mem_usage(test_df)"
   ]
  },
  {
   "cell_type": "markdown",
   "id": "1d92347e",
   "metadata": {
    "papermill": {
     "duration": 0.05867,
     "end_time": "2022-03-11T18:39:33.518158",
     "exception": false,
     "start_time": "2022-03-11T18:39:33.459488",
     "status": "completed"
    },
    "tags": []
   },
   "source": [
    "# Model"
   ]
  },
  {
   "cell_type": "code",
   "execution_count": 30,
   "id": "f38b9b09",
   "metadata": {
    "execution": {
     "iopub.execute_input": "2022-03-11T18:39:33.640440Z",
     "iopub.status.busy": "2022-03-11T18:39:33.639819Z",
     "iopub.status.idle": "2022-03-11T18:39:36.202077Z",
     "shell.execute_reply": "2022-03-11T18:39:36.201360Z",
     "shell.execute_reply.started": "2022-03-11T18:29:00.338380Z"
    },
    "papermill": {
     "duration": 2.624872,
     "end_time": "2022-03-11T18:39:36.202227",
     "exception": false,
     "start_time": "2022-03-11T18:39:33.577355",
     "status": "completed"
    },
    "tags": []
   },
   "outputs": [],
   "source": [
    "y = train_df[\"isFraud\"]\n",
    "X = train_df.drop([\"isFraud\", \"TransactionID\"], axis=1)\n",
    "test_df = test_df.drop([\"TransactionID\"], axis=1)"
   ]
  },
  {
   "cell_type": "code",
   "execution_count": 31,
   "id": "3778a390",
   "metadata": {
    "execution": {
     "iopub.execute_input": "2022-03-11T18:39:36.328924Z",
     "iopub.status.busy": "2022-03-11T18:39:36.328200Z",
     "iopub.status.idle": "2022-03-11T18:39:39.961012Z",
     "shell.execute_reply": "2022-03-11T18:39:39.961561Z",
     "shell.execute_reply.started": "2022-03-11T18:29:00.340396Z"
    },
    "papermill": {
     "duration": 3.69991,
     "end_time": "2022-03-11T18:39:39.961755",
     "exception": false,
     "start_time": "2022-03-11T18:39:36.261845",
     "status": "completed"
    },
    "tags": []
   },
   "outputs": [],
   "source": [
    "X_train, X_test, y_train, y_test = train_test_split(X, y, test_size=0.3, random_state=0, stratify=y)"
   ]
  },
  {
   "cell_type": "markdown",
   "id": "205c8800",
   "metadata": {
    "papermill": {
     "duration": 0.060395,
     "end_time": "2022-03-11T18:39:40.081704",
     "exception": false,
     "start_time": "2022-03-11T18:39:40.021309",
     "status": "completed"
    },
    "tags": []
   },
   "source": [
    "# Random Under Sampling"
   ]
  },
  {
   "cell_type": "code",
   "execution_count": 32,
   "id": "f7cc7dd1",
   "metadata": {
    "execution": {
     "iopub.execute_input": "2022-03-11T18:39:40.207652Z",
     "iopub.status.busy": "2022-03-11T18:39:40.206992Z",
     "iopub.status.idle": "2022-03-11T18:39:44.047818Z",
     "shell.execute_reply": "2022-03-11T18:39:44.048610Z",
     "shell.execute_reply.started": "2022-03-11T18:29:00.341753Z"
    },
    "papermill": {
     "duration": 3.907833,
     "end_time": "2022-03-11T18:39:44.048873",
     "exception": false,
     "start_time": "2022-03-11T18:39:40.141040",
     "status": "completed"
    },
    "tags": []
   },
   "outputs": [
    {
     "name": "stdout",
     "output_type": "stream",
     "text": [
      "Before UnderSampling, counts of label '1': 14464\n",
      "Before UnderSampling, counts of label '0': 398914 \n",
      "\n",
      "After UnderSampling, the shape of train_X: (123978, 479)\n",
      "After UnderSampling, the shape of train_y: (123978,) \n",
      "\n",
      "After UnderSampling, counts of label '1': 20663\n",
      "After UnderSampling, counts of label '0': 103315\n"
     ]
    }
   ],
   "source": [
    "print(\"Before UnderSampling, counts of label '1': {}\".format(sum(y_train==1)))\n",
    "print(\"Before UnderSampling, counts of label '0': {} \\n\".format(sum(y_train==0)))\n",
    "\n",
    "undersample = RandomUnderSampler(sampling_strategy=0.2, random_state=3)\n",
    "\n",
    "X_train_res, y_train_res = undersample.fit_resample(X, y)\n",
    "\n",
    "print('After UnderSampling, the shape of train_X: {}'.format(X_train_res.shape))\n",
    "print('After UnderSampling, the shape of train_y: {} \\n'.format(y_train_res.shape))\n",
    "\n",
    "print(\"After UnderSampling, counts of label '1': {}\".format(sum(y_train_res==1)))\n",
    "print(\"After UnderSampling, counts of label '0': {}\".format(sum(y_train_res==0)))"
   ]
  },
  {
   "cell_type": "markdown",
   "id": "1275afaa",
   "metadata": {
    "papermill": {
     "duration": 0.065327,
     "end_time": "2022-03-11T18:39:44.187032",
     "exception": false,
     "start_time": "2022-03-11T18:39:44.121705",
     "status": "completed"
    },
    "tags": []
   },
   "source": [
    "# lightgbm"
   ]
  },
  {
   "cell_type": "code",
   "execution_count": 33,
   "id": "b69fced5",
   "metadata": {
    "execution": {
     "iopub.execute_input": "2022-03-11T18:39:44.312693Z",
     "iopub.status.busy": "2022-03-11T18:39:44.311694Z",
     "iopub.status.idle": "2022-03-11T18:42:07.145347Z",
     "shell.execute_reply": "2022-03-11T18:42:07.145985Z",
     "shell.execute_reply.started": "2022-03-11T18:29:00.343171Z"
    },
    "papermill": {
     "duration": 142.89836,
     "end_time": "2022-03-11T18:42:07.146218",
     "exception": false,
     "start_time": "2022-03-11T18:39:44.247858",
     "status": "completed"
    },
    "tags": []
   },
   "outputs": [
    {
     "data": {
      "text/plain": [
       "LGBMClassifier(colsample_bytree=0.7, learning_rate=0.01, max_bin=255,\n",
       "               metric='auc', n_estimators=800, num_leaves=256,\n",
       "               objective='binary', subsample=0.7, subsample_freq=1,\n",
       "               tree_learner='serial', verbose=-1)"
      ]
     },
     "execution_count": 33,
     "metadata": {},
     "output_type": "execute_result"
    }
   ],
   "source": [
    "reg3 = LGBMClassifier(objective='binary',\n",
    "                    boosting_type='gbdt',\n",
    "                    metric='auc',\n",
    "                    n_jobs=-1,\n",
    "                    learning_rate=0.01,\n",
    "                    num_leaves= 2**8,\n",
    "                    max_depth=-1,\n",
    "                    tree_learner='serial',\n",
    "                    colsample_bytree= 0.7,\n",
    "                    subsample_freq=1,\n",
    "                    subsample=0.7,\n",
    "                    n_estimators=800,\n",
    "                    max_bin=255,\n",
    "                    verbose=-1) \n",
    "reg3.fit(X_train_res,y_train_res) "
   ]
  },
  {
   "cell_type": "code",
   "execution_count": 34,
   "id": "da981e72",
   "metadata": {
    "execution": {
     "iopub.execute_input": "2022-03-11T18:42:07.274505Z",
     "iopub.status.busy": "2022-03-11T18:42:07.273752Z",
     "iopub.status.idle": "2022-03-11T18:42:22.006391Z",
     "shell.execute_reply": "2022-03-11T18:42:22.007073Z",
     "shell.execute_reply.started": "2022-03-11T18:29:00.344402Z"
    },
    "papermill": {
     "duration": 14.798902,
     "end_time": "2022-03-11T18:42:22.007331",
     "exception": false,
     "start_time": "2022-03-11T18:42:07.208429",
     "status": "completed"
    },
    "tags": []
   },
   "outputs": [
    {
     "name": "stdout",
     "output_type": "stream",
     "text": [
      "              precision    recall  f1-score   support\n",
      "\n",
      "           0       0.99      0.99      0.99    170963\n",
      "           1       0.78      0.85      0.81      6199\n",
      "\n",
      "    accuracy                           0.99    177162\n",
      "   macro avg       0.89      0.92      0.90    177162\n",
      "weighted avg       0.99      0.99      0.99    177162\n",
      "\n",
      "Auc: 0.89\n"
     ]
    }
   ],
   "source": [
    "pred3 = reg3.predict(X_test)  \n",
    "print(classification_report(y_test, pred3))\n",
    "print(f\"Auc: {round(roc_auc_score(pred3, y_test), 2)}\")"
   ]
  },
  {
   "cell_type": "code",
   "execution_count": 35,
   "id": "470e8c60",
   "metadata": {
    "execution": {
     "iopub.execute_input": "2022-03-11T18:42:22.142360Z",
     "iopub.status.busy": "2022-03-11T18:42:22.141566Z",
     "iopub.status.idle": "2022-03-11T18:42:23.264308Z",
     "shell.execute_reply": "2022-03-11T18:42:23.263657Z",
     "shell.execute_reply.started": "2022-03-11T18:29:00.345586Z"
    },
    "papermill": {
     "duration": 1.194422,
     "end_time": "2022-03-11T18:42:23.264494",
     "exception": false,
     "start_time": "2022-03-11T18:42:22.070072",
     "status": "completed"
    },
    "tags": []
   },
   "outputs": [
    {
     "data": {
      "image/png": "[encoded data removed]",
      "text/plain": [
       "<Figure size 720x720 with 1 Axes>"
      ]
     },
     "metadata": {
      "needs_background": "light"
     },
     "output_type": "display_data"
    }
   ],
   "source": [
    "def plot_importance(model, features, num=len(X), save=False):\n",
    "\n",
    "    feature_imp = pd.DataFrame({'Value': model.feature_importances_, 'Feature': features.columns})\n",
    "    plt.figure(figsize=(10, 10))\n",
    "    sns.set(font_scale=1)\n",
    "    sns.barplot(x=\"Value\", y=\"Feature\", data=feature_imp.sort_values(by=\"Value\",\n",
    "                                                                     ascending=False)[0:50])\n",
    "    plt.title('Features')\n",
    "    plt.tight_layout()\n",
    "    plt.show()\n",
    "    if save:\n",
    "        plt.savefig('importances.png')\n",
    "        \n",
    "        \n",
    "plot_importance(reg3, X_train)"
   ]
  },
  {
   "cell_type": "code",
   "execution_count": 36,
   "id": "6ebf2d2a",
   "metadata": {
    "execution": {
     "iopub.execute_input": "2022-03-11T18:42:23.431308Z",
     "iopub.status.busy": "2022-03-11T18:42:23.430493Z",
     "iopub.status.idle": "2022-03-11T18:43:03.724244Z",
     "shell.execute_reply": "2022-03-11T18:43:03.724975Z",
     "shell.execute_reply.started": "2022-03-11T18:29:00.347838Z"
    },
    "papermill": {
     "duration": 40.378795,
     "end_time": "2022-03-11T18:43:03.725305",
     "exception": false,
     "start_time": "2022-03-11T18:42:23.346510",
     "status": "completed"
    },
    "tags": []
   },
   "outputs": [],
   "source": [
    "predictions3 = reg3.predict_proba(test_df)[:,1]"
   ]
  },
  {
   "cell_type": "code",
   "execution_count": 37,
   "id": "ce37de7c",
   "metadata": {
    "execution": {
     "iopub.execute_input": "2022-03-11T18:43:03.866643Z",
     "iopub.status.busy": "2022-03-11T18:43:03.865814Z",
     "iopub.status.idle": "2022-03-11T18:43:03.898211Z",
     "shell.execute_reply": "2022-03-11T18:43:03.897536Z",
     "shell.execute_reply.started": "2022-03-11T18:29:00.349739Z"
    },
    "papermill": {
     "duration": 0.105316,
     "end_time": "2022-03-11T18:43:03.898366",
     "exception": false,
     "start_time": "2022-03-11T18:43:03.793050",
     "status": "completed"
    },
    "tags": []
   },
   "outputs": [
    {
     "data": {
      "text/html": [
       "<div>\n",
       "<style scoped>\n",
       "    .dataframe tbody tr th:only-of-type {\n",
       "        vertical-align: middle;\n",
       "    }\n",
       "\n",
       "    .dataframe tbody tr th {\n",
       "        vertical-align: top;\n",
       "    }\n",
       "\n",
       "    .dataframe thead th {\n",
       "        text-align: right;\n",
       "    }\n",
       "</style>\n",
       "<table border=\"1\" class=\"dataframe\">\n",
       "  <thead>\n",
       "    <tr style=\"text-align: right;\">\n",
       "      <th></th>\n",
       "      <th>TransactionID</th>\n",
       "      <th>isFraud</th>\n",
       "    </tr>\n",
       "  </thead>\n",
       "  <tbody>\n",
       "    <tr>\n",
       "      <th>0</th>\n",
       "      <td>3663549</td>\n",
       "      <td>0.011574</td>\n",
       "    </tr>\n",
       "    <tr>\n",
       "      <th>1</th>\n",
       "      <td>3663550</td>\n",
       "      <td>0.017660</td>\n",
       "    </tr>\n",
       "    <tr>\n",
       "      <th>2</th>\n",
       "      <td>3663551</td>\n",
       "      <td>0.039558</td>\n",
       "    </tr>\n",
       "    <tr>\n",
       "      <th>3</th>\n",
       "      <td>3663552</td>\n",
       "      <td>0.017004</td>\n",
       "    </tr>\n",
       "    <tr>\n",
       "      <th>4</th>\n",
       "      <td>3663553</td>\n",
       "      <td>0.012803</td>\n",
       "    </tr>\n",
       "  </tbody>\n",
       "</table>\n",
       "</div>"
      ],
      "text/plain": [
       "   TransactionID   isFraud\n",
       "0        3663549  0.011574\n",
       "1        3663550  0.017660\n",
       "2        3663551  0.039558\n",
       "3        3663552  0.017004\n",
       "4        3663553  0.012803"
      ]
     },
     "execution_count": 37,
     "metadata": {},
     "output_type": "execute_result"
    }
   ],
   "source": [
    "submission = pd.DataFrame({'TransactionID':test_transaction['TransactionID'],'isFraud':predictions3})\n",
    "submission[\"TransactionID\"]=submission[\"TransactionID\"].astype(int)\n",
    "submission.head()"
   ]
  },
  {
   "cell_type": "code",
   "execution_count": 38,
   "id": "dc7bd2a1",
   "metadata": {
    "execution": {
     "iopub.execute_input": "2022-03-11T18:43:04.036492Z",
     "iopub.status.busy": "2022-03-11T18:43:04.033781Z",
     "iopub.status.idle": "2022-03-11T18:43:05.898582Z",
     "shell.execute_reply": "2022-03-11T18:43:05.897835Z",
     "shell.execute_reply.started": "2022-03-11T18:29:00.351168Z"
    },
    "papermill": {
     "duration": 1.93394,
     "end_time": "2022-03-11T18:43:05.898788",
     "exception": false,
     "start_time": "2022-03-11T18:43:03.964848",
     "status": "completed"
    },
    "tags": []
   },
   "outputs": [
    {
     "name": "stdout",
     "output_type": "stream",
     "text": [
      "Saved file: CIS Fraud Detection under sampling lgbm.csv\n"
     ]
    }
   ],
   "source": [
    "filename = 'CIS Fraud Detection under sampling lgbm.csv'\n",
    "\n",
    "submission.to_csv(filename,index=False)\n",
    "\n",
    "print('Saved file: ' + filename)"
   ]
  },
  {
   "cell_type": "code",
   "execution_count": 39,
   "id": "84015178",
   "metadata": {
    "execution": {
     "iopub.execute_input": "2022-03-11T18:43:06.045211Z",
     "iopub.status.busy": "2022-03-11T18:43:06.044333Z",
     "iopub.status.idle": "2022-03-11T18:43:06.045835Z",
     "shell.execute_reply": "2022-03-11T18:43:06.046419Z",
     "shell.execute_reply.started": "2022-03-11T18:29:00.353331Z"
    },
    "papermill": {
     "duration": 0.075186,
     "end_time": "2022-03-11T18:43:06.046651",
     "exception": false,
     "start_time": "2022-03-11T18:43:05.971465",
     "status": "completed"
    },
    "tags": []
   },
   "outputs": [],
   "source": [
    "# feature_imp = pd.DataFrame({'Value': reg3.feature_importances_, 'Feature': X_train.columns}).sort_values(by=\"Value\")\n",
    "# feature_imp"
   ]
  },
  {
   "cell_type": "code",
   "execution_count": 40,
   "id": "ed849dde",
   "metadata": {
    "execution": {
     "iopub.execute_input": "2022-03-11T18:43:06.183177Z",
     "iopub.status.busy": "2022-03-11T18:43:06.182457Z",
     "iopub.status.idle": "2022-03-11T18:43:06.185719Z",
     "shell.execute_reply": "2022-03-11T18:43:06.186305Z",
     "shell.execute_reply.started": "2022-03-11T18:29:00.355138Z"
    },
    "papermill": {
     "duration": 0.074386,
     "end_time": "2022-03-11T18:43:06.186502",
     "exception": false,
     "start_time": "2022-03-11T18:43:06.112116",
     "status": "completed"
    },
    "tags": []
   },
   "outputs": [],
   "source": [
    "# Score: 0.909003\n",
    "# Public score: 0.938276"
   ]
  },
  {
   "cell_type": "markdown",
   "id": "4c3b6694",
   "metadata": {
    "papermill": {
     "duration": 0.067002,
     "end_time": "2022-03-11T18:43:06.318938",
     "exception": false,
     "start_time": "2022-03-11T18:43:06.251936",
     "status": "completed"
    },
    "tags": []
   },
   "source": [
    "# xgb"
   ]
  },
  {
   "cell_type": "code",
   "execution_count": 41,
   "id": "6705397f",
   "metadata": {
    "execution": {
     "iopub.execute_input": "2022-03-11T18:43:06.454859Z",
     "iopub.status.busy": "2022-03-11T18:43:06.454169Z",
     "iopub.status.idle": "2022-03-11T18:44:57.759702Z",
     "shell.execute_reply": "2022-03-11T18:44:57.760311Z",
     "shell.execute_reply.started": "2022-03-11T18:29:00.356372Z"
    },
    "papermill": {
     "duration": 111.376546,
     "end_time": "2022-03-11T18:44:57.760545",
     "exception": false,
     "start_time": "2022-03-11T18:43:06.383999",
     "status": "completed"
    },
    "tags": []
   },
   "outputs": [
    {
     "name": "stdout",
     "output_type": "stream",
     "text": [
      "[18:43:10] WARNING: ../src/learner.cc:1115: Starting in XGBoost 1.3.0, the default evaluation metric used with the objective 'binary:logistic' was changed from 'error' to 'logloss'. Explicitly set eval_metric if you'd like to restore the old behavior.\n"
     ]
    },
    {
     "data": {
      "text/plain": [
       "XGBClassifier(alpha=4, base_score=0.5, booster='gbtree', colsample_bylevel=1,\n",
       "              colsample_bynode=1, colsample_bytree=0.9,\n",
       "              enable_categorical=False, gamma=0.2, gpu_id=-1,\n",
       "              importance_type=None, interaction_constraints='',\n",
       "              learning_rate=0.05, max_delta_step=0, max_depth=9,\n",
       "              min_child_weight=1, missing=nan, monotone_constraints='()',\n",
       "              n_estimators=500, n_jobs=4, num_parallel_tree=1, predictor='auto',\n",
       "              random_state=0, reg_alpha=4, reg_lambda=1, scale_pos_weight=1,\n",
       "              subsample=0.9, tree_method='hist', validate_parameters=1,\n",
       "              verbosity=None)"
      ]
     },
     "execution_count": 41,
     "metadata": {},
     "output_type": "execute_result"
    }
   ],
   "source": [
    "reg4 = XGBClassifier(n_estimators=500,\n",
    "              max_depth=9,\n",
    "              learning_rate=0.05,\n",
    "              subsample=0.9,\n",
    "              colsample_bytree=0.9,\n",
    "              gamma = 0.2,\n",
    "              alpha = 4,\n",
    "              tree_method='hist')  \n",
    "reg4.fit(X_train_res,y_train_res) "
   ]
  },
  {
   "cell_type": "code",
   "execution_count": 42,
   "id": "eb7eca60",
   "metadata": {
    "execution": {
     "iopub.execute_input": "2022-03-11T18:44:57.901580Z",
     "iopub.status.busy": "2022-03-11T18:44:57.900843Z",
     "iopub.status.idle": "2022-03-11T18:45:02.989270Z",
     "shell.execute_reply": "2022-03-11T18:45:02.988047Z",
     "shell.execute_reply.started": "2022-03-11T18:29:00.357925Z"
    },
    "papermill": {
     "duration": 5.159883,
     "end_time": "2022-03-11T18:45:02.989520",
     "exception": false,
     "start_time": "2022-03-11T18:44:57.829637",
     "status": "completed"
    },
    "tags": []
   },
   "outputs": [
    {
     "name": "stdout",
     "output_type": "stream",
     "text": [
      "              precision    recall  f1-score   support\n",
      "\n",
      "           0       0.99      0.99      0.99    170963\n",
      "           1       0.77      0.85      0.81      6199\n",
      "\n",
      "    accuracy                           0.99    177162\n",
      "   macro avg       0.88      0.92      0.90    177162\n",
      "weighted avg       0.99      0.99      0.99    177162\n",
      "\n",
      "Auc: 0.8837\n"
     ]
    }
   ],
   "source": [
    "pred4 = reg4.predict(X_test)  \n",
    "print(classification_report(y_test, pred4))\n",
    "print(f\"Auc: {round(roc_auc_score(pred4, y_test), 4)}\")"
   ]
  },
  {
   "cell_type": "code",
   "execution_count": 43,
   "id": "4af3e052",
   "metadata": {
    "execution": {
     "iopub.execute_input": "2022-03-11T18:45:03.170107Z",
     "iopub.status.busy": "2022-03-11T18:45:03.169268Z",
     "iopub.status.idle": "2022-03-11T18:45:04.229583Z",
     "shell.execute_reply": "2022-03-11T18:45:04.230213Z",
     "shell.execute_reply.started": "2022-03-11T18:29:00.359564Z"
    },
    "papermill": {
     "duration": 1.160083,
     "end_time": "2022-03-11T18:45:04.230436",
     "exception": false,
     "start_time": "2022-03-11T18:45:03.070353",
     "status": "completed"
    },
    "tags": []
   },
   "outputs": [
    {
     "data": {
      "image/png": "[encoded data removed]",
      "text/plain": [
       "<Figure size 720x720 with 1 Axes>"
      ]
     },
     "metadata": {},
     "output_type": "display_data"
    }
   ],
   "source": [
    "plot_importance(reg4, X_train)"
   ]
  },
  {
   "cell_type": "code",
   "execution_count": 44,
   "id": "29d745e7",
   "metadata": {
    "execution": {
     "iopub.execute_input": "2022-03-11T18:45:04.378844Z",
     "iopub.status.busy": "2022-03-11T18:45:04.378039Z",
     "iopub.status.idle": "2022-03-11T18:45:15.618459Z",
     "shell.execute_reply": "2022-03-11T18:45:15.619043Z",
     "shell.execute_reply.started": "2022-03-11T18:29:00.362109Z"
    },
    "papermill": {
     "duration": 11.315735,
     "end_time": "2022-03-11T18:45:15.619278",
     "exception": false,
     "start_time": "2022-03-11T18:45:04.303543",
     "status": "completed"
    },
    "tags": []
   },
   "outputs": [],
   "source": [
    "predictions4 = reg4.predict_proba(test_df)[:,1]"
   ]
  },
  {
   "cell_type": "code",
   "execution_count": 45,
   "id": "6bc35468",
   "metadata": {
    "execution": {
     "iopub.execute_input": "2022-03-11T18:45:15.760183Z",
     "iopub.status.busy": "2022-03-11T18:45:15.759501Z",
     "iopub.status.idle": "2022-03-11T18:45:15.780250Z",
     "shell.execute_reply": "2022-03-11T18:45:15.779703Z",
     "shell.execute_reply.started": "2022-03-11T18:29:00.364095Z"
    },
    "papermill": {
     "duration": 0.092771,
     "end_time": "2022-03-11T18:45:15.780410",
     "exception": false,
     "start_time": "2022-03-11T18:45:15.687639",
     "status": "completed"
    },
    "tags": []
   },
   "outputs": [
    {
     "data": {
      "text/html": [
       "<div>\n",
       "<style scoped>\n",
       "    .dataframe tbody tr th:only-of-type {\n",
       "        vertical-align: middle;\n",
       "    }\n",
       "\n",
       "    .dataframe tbody tr th {\n",
       "        vertical-align: top;\n",
       "    }\n",
       "\n",
       "    .dataframe thead th {\n",
       "        text-align: right;\n",
       "    }\n",
       "</style>\n",
       "<table border=\"1\" class=\"dataframe\">\n",
       "  <thead>\n",
       "    <tr style=\"text-align: right;\">\n",
       "      <th></th>\n",
       "      <th>TransactionID</th>\n",
       "      <th>isFraud</th>\n",
       "    </tr>\n",
       "  </thead>\n",
       "  <tbody>\n",
       "    <tr>\n",
       "      <th>0</th>\n",
       "      <td>3663549</td>\n",
       "      <td>0.019272</td>\n",
       "    </tr>\n",
       "    <tr>\n",
       "      <th>1</th>\n",
       "      <td>3663550</td>\n",
       "      <td>0.013846</td>\n",
       "    </tr>\n",
       "    <tr>\n",
       "      <th>2</th>\n",
       "      <td>3663551</td>\n",
       "      <td>0.022876</td>\n",
       "    </tr>\n",
       "    <tr>\n",
       "      <th>3</th>\n",
       "      <td>3663552</td>\n",
       "      <td>0.021658</td>\n",
       "    </tr>\n",
       "    <tr>\n",
       "      <th>4</th>\n",
       "      <td>3663553</td>\n",
       "      <td>0.003555</td>\n",
       "    </tr>\n",
       "  </tbody>\n",
       "</table>\n",
       "</div>"
      ],
      "text/plain": [
       "   TransactionID   isFraud\n",
       "0        3663549  0.019272\n",
       "1        3663550  0.013846\n",
       "2        3663551  0.022876\n",
       "3        3663552  0.021658\n",
       "4        3663553  0.003555"
      ]
     },
     "execution_count": 45,
     "metadata": {},
     "output_type": "execute_result"
    }
   ],
   "source": [
    "submission = pd.DataFrame({'TransactionID':test_transaction['TransactionID'],'isFraud':predictions4})\n",
    "submission[\"TransactionID\"]=submission[\"TransactionID\"].astype(int)\n",
    "submission.head()"
   ]
  },
  {
   "cell_type": "code",
   "execution_count": 46,
   "id": "1d35ebec",
   "metadata": {
    "execution": {
     "iopub.execute_input": "2022-03-11T18:45:15.925599Z",
     "iopub.status.busy": "2022-03-11T18:45:15.923194Z",
     "iopub.status.idle": "2022-03-11T18:45:17.424581Z",
     "shell.execute_reply": "2022-03-11T18:45:17.425106Z",
     "shell.execute_reply.started": "2022-03-11T18:29:00.365862Z"
    },
    "papermill": {
     "duration": 1.576162,
     "end_time": "2022-03-11T18:45:17.425302",
     "exception": false,
     "start_time": "2022-03-11T18:45:15.849140",
     "status": "completed"
    },
    "tags": []
   },
   "outputs": [
    {
     "name": "stdout",
     "output_type": "stream",
     "text": [
      "Saved file: CIS Fraud Detection under sampling xgb.csv\n"
     ]
    }
   ],
   "source": [
    "filename = 'CIS Fraud Detection under sampling xgb.csv'\n",
    "\n",
    "submission.to_csv(filename,index=False)\n",
    "\n",
    "print('Saved file: ' + filename)"
   ]
  },
  {
   "cell_type": "code",
   "execution_count": 47,
   "id": "69c9da81",
   "metadata": {
    "execution": {
     "iopub.execute_input": "2022-03-11T18:45:17.569049Z",
     "iopub.status.busy": "2022-03-11T18:45:17.568328Z",
     "iopub.status.idle": "2022-03-11T18:45:17.570864Z",
     "shell.execute_reply": "2022-03-11T18:45:17.570295Z",
     "shell.execute_reply.started": "2022-03-11T18:29:00.367758Z"
    },
    "papermill": {
     "duration": 0.07685,
     "end_time": "2022-03-11T18:45:17.571021",
     "exception": false,
     "start_time": "2022-03-11T18:45:17.494171",
     "status": "completed"
    },
    "tags": []
   },
   "outputs": [],
   "source": [
    "# feature_imp = pd.DataFrame({'Value': reg4.feature_importances_, 'Feature': X_train.columns}).sort_values(by=\"Value\")\n",
    "# feature_imp"
   ]
  },
  {
   "cell_type": "code",
   "execution_count": 48,
   "id": "e77a6b5d",
   "metadata": {
    "execution": {
     "iopub.execute_input": "2022-03-11T18:45:17.713436Z",
     "iopub.status.busy": "2022-03-11T18:45:17.712370Z",
     "iopub.status.idle": "2022-03-11T18:45:17.715139Z",
     "shell.execute_reply": "2022-03-11T18:45:17.715757Z",
     "shell.execute_reply.started": "2022-03-11T18:29:00.369666Z"
    },
    "papermill": {
     "duration": 0.076014,
     "end_time": "2022-03-11T18:45:17.715941",
     "exception": false,
     "start_time": "2022-03-11T18:45:17.639927",
     "status": "completed"
    },
    "tags": []
   },
   "outputs": [],
   "source": [
    "# Score: 0.906771\n",
    "# Public score: 0.936787"
   ]
  },
  {
   "cell_type": "code",
   "execution_count": null,
   "id": "8f1a27cc",
   "metadata": {
    "papermill": {
     "duration": 0.068442,
     "end_time": "2022-03-11T18:45:17.853079",
     "exception": false,
     "start_time": "2022-03-11T18:45:17.784637",
     "status": "completed"
    },
    "tags": []
   },
   "outputs": [],
   "source": []
  }
 ],
 "metadata": {
  "kernelspec": {
   "display_name": "Python 3",
   "language": "python",
   "name": "python3"
  },
  "language_info": {
   "codemirror_mode": {
    "name": "ipython",
    "version": 3
   },
   "file_extension": ".py",
   "mimetype": "text/x-python",
   "name": "python",
   "nbconvert_exporter": "python",
   "pygments_lexer": "ipython3",
   "version": "3.7.12"
  },
  "papermill": {
   "default_parameters": {},
   "duration": 927.801877,
   "end_time": "2022-03-11T18:45:19.542866",
   "environment_variables": {},
   "exception": null,
   "input_path": "__notebook__.ipynb",
   "output_path": "__notebook__.ipynb",
   "parameters": {},
   "start_time": "2022-03-11T18:29:51.740989",
   "version": "2.3.3"
  }
 },
 "nbformat": 4,
 "nbformat_minor": 5
}
